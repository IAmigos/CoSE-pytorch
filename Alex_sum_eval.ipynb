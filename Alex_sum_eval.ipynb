{
 "cells": [
  {
   "cell_type": "code",
   "execution_count": 1,
   "metadata": {},
   "outputs": [],
   "source": [
    "from models import *\n",
    "from utils import set_seed\n",
    "from data.loaders import *\n",
    "from utils import *"
   ]
  },
  {
   "cell_type": "code",
   "execution_count": 2,
   "metadata": {},
   "outputs": [],
   "source": [
    "user = 'ajimenez'\n",
    "path_to_model = f\"/home/{user}/CoSE-pytorch/wandb/latest-run/files/weights_trained/epoch_150\""
   ]
  },
  {
   "cell_type": "code",
   "execution_count": 3,
   "metadata": {},
   "outputs": [
    {
     "data": {
      "text/plain": [
       "<All keys matched successfully>"
      ]
     },
     "execution_count": 3,
     "metadata": {},
     "output_type": "execute_result"
    }
   ],
   "source": [
    "set_seed(0)\n",
    "device = torch.device('cuda:0')\n",
    "cose = CoSEModel('config.json', False)\n",
    "cose.encoder.load_state_dict(torch.load(os.path.join(os.getcwd(), path_to_model,\"encoder.pth\"), map_location=device))\n",
    "cose.decoder.load_state_dict(torch.load(os.path.join(os.getcwd(),path_to_model ,\"decoder.pth\"), map_location=device))\n",
    "cose.position_predictive_model.load_state_dict(torch.load(os.path.join(os.getcwd(),path_to_model,\"pos_pred.pth\"), map_location=device))\n",
    "cose.embedding_predictive_model.load_state_dict(torch.load(os.path.join(os.getcwd(),path_to_model,\"emb_pred.pth\"), map_location=device))"
   ]
  },
  {
   "cell_type": "code",
   "execution_count": 4,
   "metadata": {},
   "outputs": [],
   "source": [
    "cose.encoder = cose.encoder.eval()\n",
    "cose.decoder = cose.decoder.eval()\n",
    "cose.embedding_predictive_model = cose.embedding_predictive_model.eval()\n",
    "cose.position_predictive_model = cose.position_predictive_model.eval()"
   ]
  },
  {
   "cell_type": "code",
   "execution_count": 5,
   "metadata": {},
   "outputs": [],
   "source": [
    "val_path = f\"/data/{user}/cose/test/\""
   ]
  },
  {
   "cell_type": "code",
   "execution_count": 6,
   "metadata": {},
   "outputs": [],
   "source": [
    "batchdata = BatchCoSELoader(path = val_path,\n",
    "                    filenames={\"inputs_file\" : \"inputs_list_based.pkl\",\n",
    "                               \"targets_file\": \"target_list_based.pkl\"\n",
    "                              }\n",
    "                )\n",
    "\n",
    "valid_loader = DataLoader(\n",
    "                    dataset =batchdata,\n",
    "                    batch_size = 1, #data is already in batch mode, batch_size = 1 means iterating every .get_next() returns a new batch\n",
    "                )\n",
    "stats_json = 'didi_wo_text-stats-origin_abs_pos.json'\n",
    "stats_path = '/data/jcabrera/didi_wo_text/'\n",
    "with open(os.path.join(stats_path, stats_json)) as json_file:\n",
    "    stats = json.load(json_file)\n",
    "\n",
    "mean_channel = stats['mean_channel'][:2]\n",
    "std_channel = np.sqrt(stats['var_channel'][:2])\n",
    "log_dir = f'/home/ajimenez/pruebas'"
   ]
  },
  {
   "cell_type": "code",
   "execution_count": 7,
   "metadata": {},
   "outputs": [],
   "source": [
    "i = 0\n",
    "for batch_input, batch_target in iter(valid_loader):\n",
    "    if i == 1:\n",
    "        break\n",
    "    i+=1"
   ]
  },
  {
   "cell_type": "code",
   "execution_count": 8,
   "metadata": {},
   "outputs": [],
   "source": [
    "eval_loss = AggregateAvg()"
   ]
  },
  {
   "cell_type": "code",
   "execution_count": 9,
   "metadata": {},
   "outputs": [],
   "source": [
    "out_eval_parse_input = eval_parse_input(batch_input, cose.device)\n",
    "out_eval_parse_target = eval_parse_target(batch_target, cose.device)\n",
    "encoder_inputs, _, strok_len_inputs, _, _ = out_eval_parse_input\n",
    "# passing inputs to encoding\n",
    "comb_mask, look_ahead_mask, _ = generate_3d_mask(encoder_inputs, strok_len_inputs,cose.device, cose.config.enc_nhead)\n",
    "encoder_out = cose.encoder(encoder_inputs.permute(1,0,2), strok_len_inputs, comb_mask)"
   ]
  },
  {
   "cell_type": "code",
   "execution_count": 10,
   "metadata": {},
   "outputs": [],
   "source": [
    "models_tuple = [cose.embedding_predictive_model, cose.decoder]\n",
    "stats_tuple = [mean_channel, std_channel]"
   ]
  },
  {
   "cell_type": "code",
   "execution_count": 11,
   "metadata": {},
   "outputs": [
    {
     "name": "stderr",
     "output_type": "stream",
     "text": [
      "/home/ajimenez/CoSE-pytorch/models/gmm.py:42: UserWarning: Implicit dimension choice for softmax has been deprecated. Change the call to include dim=X as an argument.\n",
      "  out_pi = torch.nn.functional.softmax(out_pi)\n"
     ]
    }
   ],
   "source": [
    "eval_loss, recon_chamfer, pred_chamfer = quantitative_eval_step(encoder_out, out_eval_parse_input, out_eval_parse_target, models_tuple, stats_tuple, eval_loss, cose.device, cose.config.rel_nhead )"
   ]
  },
  {
   "cell_type": "code",
   "execution_count": 12,
   "metadata": {},
   "outputs": [
    {
     "data": {
      "text/plain": [
       "<utils.utils.AggregateAvg at 0x7f693b292710>"
      ]
     },
     "execution_count": 12,
     "metadata": {},
     "output_type": "execute_result"
    }
   ],
   "source": [
    "eval_loss"
   ]
  },
  {
   "cell_type": "code",
   "execution_count": null,
   "metadata": {},
   "outputs": [],
   "source": []
  }
 ],
 "metadata": {
  "kernelspec": {
   "display_name": "Python 3",
   "language": "python",
   "name": "python3"
  },
  "language_info": {
   "codemirror_mode": {
    "name": "ipython",
    "version": 3
   },
   "file_extension": ".py",
   "mimetype": "text/x-python",
   "name": "python",
   "nbconvert_exporter": "python",
   "pygments_lexer": "ipython3",
   "version": "3.6.9"
  }
 },
 "nbformat": 4,
 "nbformat_minor": 4
}
