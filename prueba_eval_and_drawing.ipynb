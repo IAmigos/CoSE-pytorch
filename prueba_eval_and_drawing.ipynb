{
 "cells": [
  {
   "cell_type": "code",
   "execution_count": 241,
   "metadata": {},
   "outputs": [],
   "source": [
    "from models import *\n",
    "from utils import *\n",
    "from data.loaders import *\n",
    "\n",
    "import numpy as np\n",
    "from torch.autograd import Variable"
   ]
  },
  {
   "cell_type": "code",
   "execution_count": 55,
   "metadata": {},
   "outputs": [],
   "source": [
    "train_dataset_path = \"/data/ajimenez/cose/train/\"\n",
    "validation_dataset_path = \"/data/ajimenez/cose/valid/\""
   ]
  },
  {
   "cell_type": "code",
   "execution_count": 57,
   "metadata": {},
   "outputs": [],
   "source": [
    "device = torch.device(\"cuda:0\" if torch.cuda.is_available() else \"cpu\")"
   ]
  },
  {
   "cell_type": "code",
   "execution_count": null,
   "metadata": {},
   "outputs": [],
   "source": []
  },
  {
   "cell_type": "code",
   "execution_count": 56,
   "metadata": {},
   "outputs": [],
   "source": [
    "train_loader = get_batch_iterator(train_dataset_path)\n",
    "valid_loader = get_batch_iterator(validation_dataset_path)"
   ]
  },
  {
   "cell_type": "code",
   "execution_count": 58,
   "metadata": {},
   "outputs": [],
   "source": [
    "for batch_input, batch_target in iter(train_loader):\n",
    "    break"
   ]
  },
  {
   "cell_type": "code",
   "execution_count": 147,
   "metadata": {},
   "outputs": [],
   "source": [
    "enc_inputs, t_inputs, stroke_len_inputs, inputs_start_coord, inputs_end_coord, num_strokes_x_diagram_tensor = parse_inputs(batch_input, device)"
   ]
  },
  {
   "cell_type": "code",
   "execution_count": 60,
   "metadata": {},
   "outputs": [],
   "source": [
    "t_target_ink = parse_targets(batch_target, device)"
   ]
  },
  {
   "cell_type": "code",
   "execution_count": 62,
   "metadata": {},
   "outputs": [
    {
     "data": {
      "text/plain": [
       "torch.Size([384, 97, 3])"
      ]
     },
     "execution_count": 62,
     "metadata": {},
     "output_type": "execute_result"
    }
   ],
   "source": [
    "enc_inputs.shape"
   ]
  },
  {
   "cell_type": "code",
   "execution_count": 67,
   "metadata": {},
   "outputs": [
    {
     "data": {
      "text/plain": [
       "torch.Size([384])"
      ]
     },
     "execution_count": 67,
     "metadata": {},
     "output_type": "execute_result"
    }
   ],
   "source": [
    "stroke_len_inputs.shape"
   ]
  },
  {
   "cell_type": "code",
   "execution_count": 157,
   "metadata": {},
   "outputs": [
    {
     "data": {
      "text/plain": [
       "tensor(52, device='cuda:0')"
      ]
     },
     "execution_count": 157,
     "metadata": {},
     "output_type": "execute_result"
    }
   ],
   "source": [
    "stroke_len_inputs[0]"
   ]
  },
  {
   "cell_type": "code",
   "execution_count": null,
   "metadata": {},
   "outputs": [],
   "source": [
    "def create_padding_mask(seq):\n",
    "  seq = tf.cast(tf.math.equal(seq, 0), tf.float32)\n",
    "  \n",
    "  # add extra dimensions to add the padding\n",
    "  # to the attention logits.\n",
    "  return seq[:, tf.newaxis, tf.newaxis, :]  # (batch_size, 1, 1, seq_len)"
   ]
  },
  {
   "cell_type": "code",
   "execution_count": 145,
   "metadata": {},
   "outputs": [
    {
     "data": {
      "text/plain": [
       "torch.Size([97])"
      ]
     },
     "execution_count": 145,
     "metadata": {},
     "output_type": "execute_result"
    }
   ],
   "source": [
    "enc_inputs[0,:,0].shape"
   ]
  },
  {
   "cell_type": "code",
   "execution_count": null,
   "metadata": {},
   "outputs": [],
   "source": [
    "mask = (torch.triu(torch.ones(1, seq.shape[1])) == 1).transpose(0, 1)"
   ]
  },
  {
   "cell_type": "code",
   "execution_count": 165,
   "metadata": {},
   "outputs": [
    {
     "data": {
      "text/plain": [
       "torch.Size([384, 97, 3])"
      ]
     },
     "execution_count": 165,
     "metadata": {},
     "output_type": "execute_result"
    }
   ],
   "source": [
    "enc_inputs.shape"
   ]
  },
  {
   "cell_type": "code",
   "execution_count": 171,
   "metadata": {},
   "outputs": [
    {
     "data": {
      "text/plain": [
       "torch.Size([384, 97])"
      ]
     },
     "execution_count": 171,
     "metadata": {},
     "output_type": "execute_result"
    }
   ],
   "source": [
    "enc_inputs[:,:,0].shape"
   ]
  },
  {
   "cell_type": "code",
   "execution_count": 159,
   "metadata": {},
   "outputs": [
    {
     "data": {
      "text/plain": [
       "tensor(-0., device='cuda:0')"
      ]
     },
     "execution_count": 159,
     "metadata": {},
     "output_type": "execute_result"
    }
   ],
   "source": [
    "enc_inputs[0,:,0][52]"
   ]
  },
  {
   "cell_type": "code",
   "execution_count": 308,
   "metadata": {},
   "outputs": [],
   "source": [
    "def mask_target(inputs, device):\n",
    "   \"\"\"\n",
    "   inputs: shape (batch_size, sequence_length, num_features)\n",
    "   result_final: shape (batch_size, sequence_length, sequence_length)\n",
    "   1: appears\n",
    "   0: doesnt appear\n",
    "   \"\"\"\n",
    "    mask = inputs[:,:,0].detach().clone()\n",
    "    mask[mask!=0] = 1\n",
    "    mask[mask!=1] = 0\n",
    "    mask = (mask==1)\n",
    "    mask = mask.unsqueeze(dim=1).repeat(1,mask.shape[1],1).reshape(mask.shape[0], mask.shape[-1],-1)\n",
    "    \n",
    "    nopeak_mask = np.triu(np.ones((enc_inputs.shape[0], enc_inputs.shape[1], enc_inputs.shape[1])),k=1).astype('uint8')\n",
    "    nopeak_mask = Variable(torch.from_numpy(nopeak_mask) == 0)\n",
    "\n",
    "    nopeak_mask = nopeak_mask.to(device)\n",
    "    \n",
    "    result_final = (nopeak_mask & mask).gt(0).to(torch.float32)\n",
    "    \n",
    "    return result_final"
   ]
  },
  {
   "cell_type": "code",
   "execution_count": 309,
   "metadata": {},
   "outputs": [],
   "source": [
    "lol = mask_target(enc_inputs, device)"
   ]
  },
  {
   "cell_type": "code",
   "execution_count": 310,
   "metadata": {},
   "outputs": [
    {
     "data": {
      "text/plain": [
       "torch.Size([384, 97, 97])"
      ]
     },
     "execution_count": 310,
     "metadata": {},
     "output_type": "execute_result"
    }
   ],
   "source": [
    "lol.shape"
   ]
  },
  {
   "cell_type": "code",
   "execution_count": 316,
   "metadata": {},
   "outputs": [
    {
     "data": {
      "text/plain": [
       "tensor([1., 1., 1., 1., 1., 1., 1., 1., 1., 1., 1., 1., 1., 1., 1., 1., 1., 1.,\n",
       "        1., 1., 1., 1., 1., 1., 1., 1., 1., 1., 1., 1., 1., 1., 1., 1., 1., 1.,\n",
       "        1., 1., 1., 1., 1., 1., 1., 1., 1., 1., 1., 1., 1., 1., 1., 1., 0., 0.,\n",
       "        0., 0., 0., 0., 0., 0., 0., 0., 0., 0., 0., 0., 0., 0., 0., 0., 0., 0.,\n",
       "        0., 0., 0., 0., 0., 0., 0., 0., 0., 0., 0., 0., 0., 0., 0., 0., 0., 0.,\n",
       "        0., 0., 0., 0., 0., 0., 0.], device='cuda:0')"
      ]
     },
     "execution_count": 316,
     "metadata": {},
     "output_type": "execute_result"
    }
   ],
   "source": [
    "lol[0][stroke_len_inputs[1]-1]"
   ]
  },
  {
   "cell_type": "code",
   "execution_count": 319,
   "metadata": {},
   "outputs": [
    {
     "data": {
      "text/plain": [
       "tensor([1., 1., 1., 1., 1., 1., 1., 1., 1., 1., 1., 1., 1., 1., 1., 1., 1., 1.,\n",
       "        1., 1., 1., 1., 1., 1., 1., 1., 1., 1., 1., 1., 1., 1., 1., 1., 1., 1.,\n",
       "        1., 1., 1., 1., 1., 1., 1., 1., 1., 1., 1., 1., 1., 1., 1., 1., 0., 0.,\n",
       "        0., 0., 0., 0., 0., 0., 0., 0., 0., 0., 0., 0., 0., 0., 0., 0., 0., 0.,\n",
       "        0., 0., 0., 0., 0., 0., 0., 0., 0., 0., 0., 0., 0., 0., 0., 0., 0., 0.,\n",
       "        0., 0., 0., 0., 0., 0., 0.], device='cuda:0')"
      ]
     },
     "execution_count": 319,
     "metadata": {},
     "output_type": "execute_result"
    }
   ],
   "source": [
    "lol[0][stroke_len_inputs[1]+4]"
   ]
  },
  {
   "cell_type": "code",
   "execution_count": null,
   "metadata": {},
   "outputs": [],
   "source": []
  },
  {
   "cell_type": "code",
   "execution_count": 269,
   "metadata": {},
   "outputs": [
    {
     "data": {
      "text/plain": [
       "array([[[0., 1.],\n",
       "        [0., 0.]]])"
      ]
     },
     "execution_count": 269,
     "metadata": {},
     "output_type": "execute_result"
    }
   ],
   "source": [
    "np.triu(np.ones((1, 2, 2)),k=1)"
   ]
  },
  {
   "cell_type": "code",
   "execution_count": 279,
   "metadata": {},
   "outputs": [],
   "source": [
    "nopeak_mask = np.triu(np.ones((enc_inputs.shape[0], enc_inputs.shape[1], enc_inputs.shape[1])),k=1).astype('uint8')\n",
    "nopeak_mask = Variable(torch.from_numpy(nopeak_mask) == 0)\n",
    "#nopeak_mask[nopeak_mask==True] = \n",
    "#nopeak_mask[nopeak_mask==False] = \n",
    "nopeak_mask = nopeak_mask.to(device)"
   ]
  },
  {
   "cell_type": "code",
   "execution_count": 280,
   "metadata": {},
   "outputs": [
    {
     "data": {
      "text/plain": [
       "torch.Size([384, 97, 97])"
      ]
     },
     "execution_count": 280,
     "metadata": {},
     "output_type": "execute_result"
    }
   ],
   "source": [
    "nopeak_mask.shape"
   ]
  },
  {
   "cell_type": "code",
   "execution_count": 281,
   "metadata": {},
   "outputs": [
    {
     "data": {
      "text/plain": [
       "tensor([[ True, False, False,  ..., False, False, False],\n",
       "        [ True,  True, False,  ..., False, False, False],\n",
       "        [ True,  True,  True,  ..., False, False, False],\n",
       "        ...,\n",
       "        [ True,  True,  True,  ...,  True, False, False],\n",
       "        [ True,  True,  True,  ...,  True,  True, False],\n",
       "        [ True,  True,  True,  ...,  True,  True,  True]], device='cuda:0')"
      ]
     },
     "execution_count": 281,
     "metadata": {},
     "output_type": "execute_result"
    }
   ],
   "source": [
    "nopeak_mask[0]"
   ]
  },
  {
   "cell_type": "code",
   "execution_count": 283,
   "metadata": {},
   "outputs": [],
   "source": [
    "xdd = mask_target(enc_inputs)"
   ]
  },
  {
   "cell_type": "code",
   "execution_count": 289,
   "metadata": {},
   "outputs": [],
   "source": [
    "result_final = (nopeak_mask & xdd)"
   ]
  },
  {
   "cell_type": "code",
   "execution_count": 290,
   "metadata": {},
   "outputs": [
    {
     "data": {
      "text/plain": [
       "torch.Size([384, 97, 97])"
      ]
     },
     "execution_count": 290,
     "metadata": {},
     "output_type": "execute_result"
    }
   ],
   "source": [
    "result_final.shape"
   ]
  },
  {
   "cell_type": "code",
   "execution_count": 307,
   "metadata": {},
   "outputs": [
    {
     "data": {
      "text/plain": [
       "tensor([[[ True, False, False,  ..., False, False, False],\n",
       "         [ True,  True, False,  ..., False, False, False],\n",
       "         [ True,  True,  True,  ..., False, False, False],\n",
       "         ...,\n",
       "         [ True,  True,  True,  ..., False, False, False],\n",
       "         [ True,  True,  True,  ..., False, False, False],\n",
       "         [ True,  True,  True,  ..., False, False, False]],\n",
       "\n",
       "        [[ True, False, False,  ..., False, False, False],\n",
       "         [ True,  True, False,  ..., False, False, False],\n",
       "         [ True,  True,  True,  ..., False, False, False],\n",
       "         ...,\n",
       "         [ True,  True,  True,  ..., False, False, False],\n",
       "         [ True,  True,  True,  ..., False, False, False],\n",
       "         [ True,  True,  True,  ..., False, False, False]],\n",
       "\n",
       "        [[ True, False, False,  ..., False, False, False],\n",
       "         [ True,  True, False,  ..., False, False, False],\n",
       "         [ True,  True,  True,  ..., False, False, False],\n",
       "         ...,\n",
       "         [ True,  True,  True,  ..., False, False, False],\n",
       "         [ True,  True,  True,  ..., False, False, False],\n",
       "         [ True,  True,  True,  ..., False, False, False]],\n",
       "\n",
       "        ...,\n",
       "\n",
       "        [[ True, False, False,  ..., False, False, False],\n",
       "         [ True,  True, False,  ..., False, False, False],\n",
       "         [ True,  True,  True,  ..., False, False, False],\n",
       "         ...,\n",
       "         [ True,  True,  True,  ..., False, False, False],\n",
       "         [ True,  True,  True,  ..., False, False, False],\n",
       "         [ True,  True,  True,  ..., False, False, False]],\n",
       "\n",
       "        [[ True, False, False,  ..., False, False, False],\n",
       "         [ True,  True, False,  ..., False, False, False],\n",
       "         [ True,  True,  True,  ..., False, False, False],\n",
       "         ...,\n",
       "         [ True,  True,  True,  ..., False, False, False],\n",
       "         [ True,  True,  True,  ..., False, False, False],\n",
       "         [ True,  True,  True,  ..., False, False, False]],\n",
       "\n",
       "        [[False, False, False,  ..., False, False, False],\n",
       "         [False, False, False,  ..., False, False, False],\n",
       "         [False, False, False,  ..., False, False, False],\n",
       "         ...,\n",
       "         [False, False, False,  ..., False, False, False],\n",
       "         [False, False, False,  ..., False, False, False],\n",
       "         [False, False, False,  ..., False, False, False]]], device='cuda:0')"
      ]
     },
     "execution_count": 307,
     "metadata": {},
     "output_type": "execute_result"
    }
   ],
   "source": [
    "result_final"
   ]
  },
  {
   "cell_type": "code",
   "execution_count": 306,
   "metadata": {},
   "outputs": [
    {
     "data": {
      "text/plain": [
       "tensor([[[1., 0., 0.,  ..., 0., 0., 0.],\n",
       "         [1., 1., 0.,  ..., 0., 0., 0.],\n",
       "         [1., 1., 1.,  ..., 0., 0., 0.],\n",
       "         ...,\n",
       "         [1., 1., 1.,  ..., 0., 0., 0.],\n",
       "         [1., 1., 1.,  ..., 0., 0., 0.],\n",
       "         [1., 1., 1.,  ..., 0., 0., 0.]],\n",
       "\n",
       "        [[1., 0., 0.,  ..., 0., 0., 0.],\n",
       "         [1., 1., 0.,  ..., 0., 0., 0.],\n",
       "         [1., 1., 1.,  ..., 0., 0., 0.],\n",
       "         ...,\n",
       "         [1., 1., 1.,  ..., 0., 0., 0.],\n",
       "         [1., 1., 1.,  ..., 0., 0., 0.],\n",
       "         [1., 1., 1.,  ..., 0., 0., 0.]],\n",
       "\n",
       "        [[1., 0., 0.,  ..., 0., 0., 0.],\n",
       "         [1., 1., 0.,  ..., 0., 0., 0.],\n",
       "         [1., 1., 1.,  ..., 0., 0., 0.],\n",
       "         ...,\n",
       "         [1., 1., 1.,  ..., 0., 0., 0.],\n",
       "         [1., 1., 1.,  ..., 0., 0., 0.],\n",
       "         [1., 1., 1.,  ..., 0., 0., 0.]],\n",
       "\n",
       "        ...,\n",
       "\n",
       "        [[1., 0., 0.,  ..., 0., 0., 0.],\n",
       "         [1., 1., 0.,  ..., 0., 0., 0.],\n",
       "         [1., 1., 1.,  ..., 0., 0., 0.],\n",
       "         ...,\n",
       "         [1., 1., 1.,  ..., 0., 0., 0.],\n",
       "         [1., 1., 1.,  ..., 0., 0., 0.],\n",
       "         [1., 1., 1.,  ..., 0., 0., 0.]],\n",
       "\n",
       "        [[1., 0., 0.,  ..., 0., 0., 0.],\n",
       "         [1., 1., 0.,  ..., 0., 0., 0.],\n",
       "         [1., 1., 1.,  ..., 0., 0., 0.],\n",
       "         ...,\n",
       "         [1., 1., 1.,  ..., 0., 0., 0.],\n",
       "         [1., 1., 1.,  ..., 0., 0., 0.],\n",
       "         [1., 1., 1.,  ..., 0., 0., 0.]],\n",
       "\n",
       "        [[0., 0., 0.,  ..., 0., 0., 0.],\n",
       "         [0., 0., 0.,  ..., 0., 0., 0.],\n",
       "         [0., 0., 0.,  ..., 0., 0., 0.],\n",
       "         ...,\n",
       "         [0., 0., 0.,  ..., 0., 0., 0.],\n",
       "         [0., 0., 0.,  ..., 0., 0., 0.],\n",
       "         [0., 0., 0.,  ..., 0., 0., 0.]]], device='cuda:0')"
      ]
     },
     "execution_count": 306,
     "metadata": {},
     "output_type": "execute_result"
    }
   ],
   "source": [
    "result_final.gt(0).to(torch.float32)"
   ]
  },
  {
   "cell_type": "code",
   "execution_count": 291,
   "metadata": {},
   "outputs": [
    {
     "data": {
      "text/plain": [
       "tensor([[ True, False, False,  ..., False, False, False],\n",
       "        [ True,  True, False,  ..., False, False, False],\n",
       "        [ True,  True,  True,  ..., False, False, False],\n",
       "        ...,\n",
       "        [ True,  True,  True,  ..., False, False, False],\n",
       "        [ True,  True,  True,  ..., False, False, False],\n",
       "        [ True,  True,  True,  ..., False, False, False]], device='cuda:0')"
      ]
     },
     "execution_count": 291,
     "metadata": {},
     "output_type": "execute_result"
    }
   ],
   "source": [
    "result_final[0]"
   ]
  },
  {
   "cell_type": "code",
   "execution_count": 201,
   "metadata": {},
   "outputs": [],
   "source": [
    "xdd = enc_inputs[:,:,0].detach().clone()"
   ]
  },
  {
   "cell_type": "code",
   "execution_count": 294,
   "metadata": {},
   "outputs": [
    {
     "data": {
      "text/plain": [
       "tensor([ True,  True,  True,  True,  True,  True,  True,  True,  True,  True,\n",
       "         True,  True,  True,  True,  True,  True,  True,  True,  True,  True,\n",
       "         True,  True,  True,  True,  True,  True,  True,  True,  True,  True,\n",
       "         True,  True,  True,  True,  True,  True,  True,  True,  True,  True,\n",
       "         True,  True,  True,  True,  True,  True,  True,  True,  True,  True,\n",
       "         True,  True, False, False, False, False, False, False, False, False,\n",
       "        False, False, False, False, False, False, False, False, False, False,\n",
       "        False, False, False, False, False, False, False, False, False, False,\n",
       "        False, False, False, False, False, False, False, False, False, False,\n",
       "        False, False, False, False, False, False, False], device='cuda:0')"
      ]
     },
     "execution_count": 294,
     "metadata": {},
     "output_type": "execute_result"
    }
   ],
   "source": [
    "xdd[0][0]"
   ]
  },
  {
   "cell_type": "code",
   "execution_count": 295,
   "metadata": {},
   "outputs": [
    {
     "data": {
      "text/plain": [
       "tensor([ True,  True,  True,  True,  True,  True,  True,  True,  True,  True,\n",
       "         True,  True,  True,  True,  True,  True,  True,  True,  True,  True,\n",
       "         True,  True,  True,  True,  True,  True,  True,  True,  True,  True,\n",
       "         True,  True,  True,  True,  True,  True,  True,  True,  True,  True,\n",
       "         True,  True,  True,  True,  True,  True,  True,  True,  True,  True,\n",
       "         True,  True, False, False, False, False, False, False, False, False,\n",
       "        False, False, False, False, False, False, False, False, False, False,\n",
       "        False, False, False, False, False, False, False, False, False, False,\n",
       "        False, False, False, False, False, False, False, False, False, False,\n",
       "        False, False, False, False, False, False, False], device='cuda:0')"
      ]
     },
     "execution_count": 295,
     "metadata": {},
     "output_type": "execute_result"
    }
   ],
   "source": [
    "xdd[0][1]"
   ]
  },
  {
   "cell_type": "code",
   "execution_count": 203,
   "metadata": {},
   "outputs": [],
   "source": [
    "xdd[xdd!=0] = 1\n",
    "xdd[xdd!=1] = float('-inf')"
   ]
  },
  {
   "cell_type": "code",
   "execution_count": 204,
   "metadata": {},
   "outputs": [
    {
     "data": {
      "text/plain": [
       "torch.Size([384, 97])"
      ]
     },
     "execution_count": 204,
     "metadata": {},
     "output_type": "execute_result"
    }
   ],
   "source": [
    "xdd.shape"
   ]
  },
  {
   "cell_type": "code",
   "execution_count": 205,
   "metadata": {},
   "outputs": [],
   "source": [
    "xdd = xdd.unsqueeze(dim=1).repeat(1,xdd.shape[1],1).reshape(xdd.shape[0], xdd.shape[-1],-1)"
   ]
  },
  {
   "cell_type": "code",
   "execution_count": 297,
   "metadata": {},
   "outputs": [
    {
     "data": {
      "text/plain": [
       "torch.Size([97, 97])"
      ]
     },
     "execution_count": 297,
     "metadata": {},
     "output_type": "execute_result"
    }
   ],
   "source": [
    "xdd[0].shape"
   ]
  },
  {
   "cell_type": "code",
   "execution_count": 299,
   "metadata": {},
   "outputs": [
    {
     "data": {
      "text/plain": [
       "tensor(True, device='cuda:0')"
      ]
     },
     "execution_count": 299,
     "metadata": {},
     "output_type": "execute_result"
    }
   ],
   "source": [
    "xdd[1][0][stroke_len_inputs[1]-1]"
   ]
  },
  {
   "cell_type": "code",
   "execution_count": 301,
   "metadata": {},
   "outputs": [
    {
     "data": {
      "text/plain": [
       "tensor(True, device='cuda:0')"
      ]
     },
     "execution_count": 301,
     "metadata": {},
     "output_type": "execute_result"
    }
   ],
   "source": [
    "xdd[1][1][stroke_len_inputs[1]-1]"
   ]
  },
  {
   "cell_type": "code",
   "execution_count": 303,
   "metadata": {},
   "outputs": [
    {
     "data": {
      "text/plain": [
       "tensor(True, device='cuda:0')"
      ]
     },
     "execution_count": 303,
     "metadata": {},
     "output_type": "execute_result"
    }
   ],
   "source": [
    "xdd[1][2][stroke_len_inputs[1]-1]"
   ]
  },
  {
   "cell_type": "code",
   "execution_count": 187,
   "metadata": {},
   "outputs": [
    {
     "data": {
      "text/plain": [
       "torch.Size([1, 384, 9409])"
      ]
     },
     "execution_count": 187,
     "metadata": {},
     "output_type": "execute_result"
    }
   ],
   "source": [
    "xdd.repeat(xdd.shape[1]).shape"
   ]
  },
  {
   "cell_type": "code",
   "execution_count": 181,
   "metadata": {},
   "outputs": [
    {
     "data": {
      "text/plain": [
       "tensor(1., device='cuda:0')"
      ]
     },
     "execution_count": 181,
     "metadata": {},
     "output_type": "execute_result"
    }
   ],
   "source": [
    "xdd[0][stroke_len_inputs[0]-1]"
   ]
  },
  {
   "cell_type": "code",
   "execution_count": 183,
   "metadata": {},
   "outputs": [
    {
     "data": {
      "text/plain": [
       "tensor(1., device='cuda:0')"
      ]
     },
     "execution_count": 183,
     "metadata": {},
     "output_type": "execute_result"
    }
   ],
   "source": [
    "xdd[1][stroke_len_inputs[1]-1]"
   ]
  },
  {
   "cell_type": "code",
   "execution_count": 114,
   "metadata": {},
   "outputs": [],
   "source": [
    "def create_tgt_pad_mask(seq):\n",
    "    mask = (torch.triu(torch.ones(1, seq.shape[1])) == 1).transpose(0, 1)\n",
    "    mask = mask.float().masked_fill(mask == 0, float('-inf')).masked_fill(mask == 1, float(0.0))\n",
    "    return mask"
   ]
  },
  {
   "cell_type": "code",
   "execution_count": 126,
   "metadata": {},
   "outputs": [
    {
     "data": {
      "text/plain": [
       "tensor(72, device='cuda:0')"
      ]
     },
     "execution_count": 126,
     "metadata": {},
     "output_type": "execute_result"
    }
   ],
   "source": [
    "torch.argmin(enc_inputs[0])"
   ]
  },
  {
   "cell_type": "code",
   "execution_count": 115,
   "metadata": {},
   "outputs": [],
   "source": [
    "mask2 = create_tgt_pad_mask(enc_inputs)"
   ]
  },
  {
   "cell_type": "code",
   "execution_count": 119,
   "metadata": {},
   "outputs": [],
   "source": [
    "mask2[5:] = float('-inf')"
   ]
  },
  {
   "cell_type": "code",
   "execution_count": 116,
   "metadata": {},
   "outputs": [
    {
     "data": {
      "text/plain": [
       "torch.Size([97, 1])"
      ]
     },
     "execution_count": 116,
     "metadata": {},
     "output_type": "execute_result"
    }
   ],
   "source": [
    "mask2.shape"
   ]
  },
  {
   "cell_type": "code",
   "execution_count": 104,
   "metadata": {},
   "outputs": [
    {
     "data": {
      "text/plain": [
       "torch.Size([97, 1])"
      ]
     },
     "execution_count": 104,
     "metadata": {},
     "output_type": "execute_result"
    }
   ],
   "source": [
    "mask.shape"
   ]
  },
  {
   "cell_type": "code",
   "execution_count": 117,
   "metadata": {},
   "outputs": [
    {
     "data": {
      "text/plain": [
       "torch.Size([97, 2])"
      ]
     },
     "execution_count": 117,
     "metadata": {},
     "output_type": "execute_result"
    }
   ],
   "source": [
    "torch.cat([mask, mask2], axis=1).shape"
   ]
  },
  {
   "cell_type": "code",
   "execution_count": 166,
   "metadata": {},
   "outputs": [],
   "source": [
    "def generate_square_subsequent_mask(sz):\n",
    "    mask = (torch.triu(torch.ones(sz, sz)) == 1).transpose(0, 1)\n",
    "    mask = mask.float().masked_fill(mask == 0, float('-inf')).masked_fill(mask == 1, float(0.0))\n",
    "    return mask"
   ]
  },
  {
   "cell_type": "code",
   "execution_count": 320,
   "metadata": {},
   "outputs": [],
   "source": [
    "xd = generate_square_subsequent_mask(enc_inputs.shape[1])"
   ]
  },
  {
   "cell_type": "code",
   "execution_count": 321,
   "metadata": {},
   "outputs": [
    {
     "data": {
      "text/plain": [
       "tensor([[0., -inf, -inf,  ..., -inf, -inf, -inf],\n",
       "        [0., 0., -inf,  ..., -inf, -inf, -inf],\n",
       "        [0., 0., 0.,  ..., -inf, -inf, -inf],\n",
       "        ...,\n",
       "        [0., 0., 0.,  ..., 0., -inf, -inf],\n",
       "        [0., 0., 0.,  ..., 0., 0., -inf],\n",
       "        [0., 0., 0.,  ..., 0., 0., 0.]])"
      ]
     },
     "execution_count": 321,
     "metadata": {},
     "output_type": "execute_result"
    }
   ],
   "source": [
    "xd"
   ]
  },
  {
   "cell_type": "code",
   "execution_count": 169,
   "metadata": {},
   "outputs": [
    {
     "data": {
      "text/plain": [
       "torch.Size([97, 97])"
      ]
     },
     "execution_count": 169,
     "metadata": {},
     "output_type": "execute_result"
    }
   ],
   "source": [
    "xd.shape"
   ]
  },
  {
   "cell_type": "code",
   "execution_count": null,
   "metadata": {},
   "outputs": [],
   "source": [
    "_, look_ahead_mask, _ = generate_3d_mask(enc_inputs, stroke_len_inputs, self.device)"
   ]
  },
  {
   "cell_type": "code",
   "execution_count": null,
   "metadata": {},
   "outputs": [],
   "source": []
  },
  {
   "cell_type": "code",
   "execution_count": null,
   "metadata": {},
   "outputs": [],
   "source": [
    "encoder_out = self.encoder(enc_inputs.permute(1,0,2), stroke_len_inputs, look_ahead_mask)\n",
    "# decoder forward\n",
    "encoder_out_reshaped = encoder_out.unsqueeze(dim=1).repeat(1,t_inputs.shape[1],1).reshape(-1, encoder_out.shape[-1])\n",
    "t_inputs_reshaped = t_inputs.reshape(-1,1)\n",
    "decoder_inp = torch.cat([encoder_out_reshaped, t_inputs_reshaped], dim = 1)\n",
    "strokes_out, ae_mu, ae_sigma, ae_pi= self.decoder(decoder_inp)\n",
    "\n",
    "set_seed(randint(0,100))\n",
    "# Random/Ordered Sampling\n",
    "sampled_input_start_pos, sampled_input_emb,sampled_seq_len_emb,sampled_target_start_pos,sampled_target_emb = random_index_sampling(encoder_out = encoder_out, inputs_start_coord = inputs_start_coord,\n",
    "                                                                                                                                inputs_end_coord = inputs_end_coord, num_strokes_x_diagram_tensor = num_strokes_x_diagram_tensor,\n",
    "                                                                                                                                input_type =self.config.input_type, num_predictive_inputs = 32,\n",
    "                                                                                                                                replace_padding = True, end_positions = False, device = self.device)\n",
    "\n",
    "#\n",
    "# pred_inputs, pred_input_seq_len, context_pos, pred_targets, target_pos = random_index_sampling(encoder_out,inputs_start_coord,\n",
    "#                                                                                 inputs_end_coord,num_strokes_x_diagram_tensor,\n",
    "#                                                                                 input_type =self.config.input_type,\n",
    "#                                                                                 num_predictive_inputs = self.config.num_predictive_inputs,\n",
    "#                                                                                 replace_padding = self.config.replace_padding,\n",
    "#                                                                                 end_positions = self.config.end_positions,\n",
    "#                                                                                 device = self.device)\n",
    "\n",
    "# Detaching gradients of pred_targets (Teacher forcing)\n",
    "if self.config.stop_predictive_grad:\n",
    "    sampled_input_start_pos = sampled_input_start_pos.detach().to(self.device)\n",
    "    sampled_input_emb = sampled_input_emb.detach().to(self.device)\n",
    "    sampled_seq_len_emb = sampled_seq_len_emb.detach()\n",
    "    sampled_target_start_pos = sampled_target_start_pos.detach()\n",
    "    sampled_target_emb = sampled_target_emb.detach() #Detaching gradients of pred_inputs (No influence of Relational Model)\n",
    "# Concatenating inputs for relational model\n",
    "#print(\"batch_pass\")\n",
    "i+=1\n",
    "pos_model_inputs = torch.cat([sampled_input_emb, sampled_input_start_pos], dim = 2)\n",
    "## pred_model_inputs = torch.cat([sampled_input_emb, sampled_input_start_pos, sampled_target_start_pos.unsqueeze(dim = 1).repeat(1, sampled_input_start_pos.shape[1], 1)], dim = 2)\n",
    "tgt_cond = sampled_target_start_pos.squeeze(dim = 1)\n",
    "# Predictive model Teacher forcing\n",
    "## emb_pred_mu, emb_pred_sigma, emb_pred_pi = self.embedding_predictive_model(pred_model_inputs, sampled_seq_len_emb.int(), None)\n",
    "emb_pred_mu, emb_pred_sigma, emb_pred_pi = self.embedding_predictive_model(pos_model_inputs, sampled_seq_len_emb.int(), tgt_cond)\n",
    "# Position model\n",
    "pos_pred_mu, pos_pred_sigma, pos_pred_pi = self.position_predictive_model(pos_model_inputs, sampled_seq_len_emb.int(), None)\n",
    "# calculating loss\n",
    "print(\"t_target_ink.shape\", t_target_ink.shape)\n",
    "print(\"sampled_target_start_pos\", sampled_target_start_pos.shape)\n",
    "print(\"sampled_target_emb\", sampled_target_emb.shape)\n",
    "print(\"sampled_seq_len_emb\", sampled_seq_len_emb.min())"
   ]
  },
  {
   "cell_type": "code",
   "execution_count": null,
   "metadata": {},
   "outputs": [],
   "source": []
  },
  {
   "cell_type": "code",
   "execution_count": null,
   "metadata": {},
   "outputs": [],
   "source": []
  },
  {
   "cell_type": "markdown",
   "metadata": {},
   "source": [
    "# Model evaluation and drawing sheeeet"
   ]
  },
  {
   "cell_type": "code",
   "execution_count": 1,
   "metadata": {},
   "outputs": [],
   "source": [
    "from models import *\n",
    "from utils import set_seed\n",
    "from data.loaders import *"
   ]
  },
  {
   "cell_type": "code",
   "execution_count": 2,
   "metadata": {},
   "outputs": [],
   "source": [
    "user = 'ajimenez'"
   ]
  },
  {
   "cell_type": "code",
   "execution_count": 3,
   "metadata": {},
   "outputs": [],
   "source": [
    "path_to_model = f\"/home/{user}/CoSE-pytorch/wandb/run-20210128_122647-3iw8z8ml/files/weights_trained/epoch_2\"\n",
    "path_to_model = f\"/home/{user}/CoSE-pytorch/pesos_descargados\"\n",
    "path_to_model = \"/home/shuaman/CoSE/CoSE-pytorch/wandb/latest-run/files/weights_trained/epoch_45\"\n",
    "#path_to_model = f\"/home/{user}/CoSE-pytorch/wandb/run-20210129_053415-2912fvg5/files/weights_trained/epoch_10\"\n",
    "#path_to_model = f\"/home/{user}/CoSE-pytorch/wandb/run-20210131_024337-1q0zz6pi/files/weights_trained/epoch_12\"\n",
    "path_to_model = f\"/home/{user}/CoSE-pytorch/wandb/latest-run/files/weights_trained/epoch_48\""
   ]
  },
  {
   "cell_type": "code",
   "execution_count": 4,
   "metadata": {},
   "outputs": [
    {
     "data": {
      "text/plain": [
       "<All keys matched successfully>"
      ]
     },
     "execution_count": 4,
     "metadata": {},
     "output_type": "execute_result"
    }
   ],
   "source": [
    "set_seed(0)\n",
    "device = torch.device('cuda:0')\n",
    "cose = CoSEModel('config.json', False)\n",
    "cose.encoder.load_state_dict(torch.load(os.path.join(os.getcwd(), path_to_model,\"encoder.pth\"), map_location=device))\n",
    "cose.decoder.load_state_dict(torch.load(os.path.join(os.getcwd(),path_to_model ,\"decoder.pth\"), map_location=device))\n",
    "cose.position_predictive_model.load_state_dict(torch.load(os.path.join(os.getcwd(),path_to_model,\"pos_pred.pth\"), map_location=device))\n",
    "cose.embedding_predictive_model.load_state_dict(torch.load(os.path.join(os.getcwd(),path_to_model,\"emb_pred.pth\"), map_location=device))"
   ]
  },
  {
   "cell_type": "code",
   "execution_count": 5,
   "metadata": {},
   "outputs": [],
   "source": [
    "val_path = f\"/data/{user}/cose/train/\""
   ]
  },
  {
   "cell_type": "code",
   "execution_count": 6,
   "metadata": {},
   "outputs": [],
   "source": [
    "batchdata = BatchCoSELoader(path = val_path,\n",
    "                    filenames={\"inputs_file\" : \"inputs_list_based_x16.pkl\",\n",
    "                               \"targets_file\": \"target_list_based_x16.pkl\"\n",
    "                              }\n",
    "                )\n",
    "\n",
    "valid_loader = DataLoader(\n",
    "                    dataset =batchdata,\n",
    "                    batch_size = 1, #data is already in batch mode, batch_size = 1 means iterating every .get_next() returns a new batch\n",
    "                )"
   ]
  },
  {
   "cell_type": "code",
   "execution_count": 7,
   "metadata": {},
   "outputs": [],
   "source": [
    "from utils.visualization import * "
   ]
  },
  {
   "cell_type": "code",
   "execution_count": 8,
   "metadata": {},
   "outputs": [],
   "source": [
    "stats_json = 'didi_wo_text-stats-origin_abs_pos.json'\n",
    "stats_path = '/data/jcabrera/didi_wo_text/'\n",
    "with open(os.path.join(stats_path, stats_json)) as json_file:\n",
    "    stats = json.load(json_file)"
   ]
  },
  {
   "cell_type": "code",
   "execution_count": 9,
   "metadata": {},
   "outputs": [],
   "source": [
    "mean_channel = stats['mean_channel'][:2]\n",
    "std_channel = np.sqrt(stats['var_channel'][:2])"
   ]
  },
  {
   "cell_type": "code",
   "execution_count": 10,
   "metadata": {},
   "outputs": [],
   "source": [
    "log_dir = f'/home/ajimenez/pruebas'"
   ]
  },
  {
   "cell_type": "code",
   "execution_count": 11,
   "metadata": {},
   "outputs": [],
   "source": [
    "i = 0\n",
    "for batch_input, batch_target in iter(valid_loader):\n",
    "    pass"
   ]
  },
  {
   "cell_type": "code",
   "execution_count": 12,
   "metadata": {},
   "outputs": [],
   "source": [
    "i_diagram = 7"
   ]
  },
  {
   "cell_type": "code",
   "execution_count": 13,
   "metadata": {},
   "outputs": [],
   "source": [
    "encoder_inputs = batch_input['encoder_inputs'].squeeze(dim = 0)\n",
    "num_strokes = batch_input['num_strokes'].squeeze(dim = 0)\n",
    "seq_len_drawing = batch_input['seq_len'].squeeze(dim = 0)\n",
    "start_coord = batch_input['start_coord'].squeeze(dim = 0).squeeze()"
   ]
  },
  {
   "cell_type": "code",
   "execution_count": 14,
   "metadata": {},
   "outputs": [],
   "source": [
    "enc_inputs = encoder_inputs.reshape(-1, num_strokes.max(), encoder_inputs.size(1), encoder_inputs.size(2))\n",
    "seq_len = seq_len_drawing.reshape(-1, num_strokes.max())\n",
    "st_coord = start_coord.reshape(-1,num_strokes.max(), start_coord.size(1))"
   ]
  },
  {
   "cell_type": "code",
   "execution_count": 15,
   "metadata": {},
   "outputs": [],
   "source": [
    "target_ink = batch_target['t_target_ink'].squeeze(dim = 0)"
   ]
  },
  {
   "cell_type": "code",
   "execution_count": 16,
   "metadata": {},
   "outputs": [
    {
     "data": {
      "text/plain": [
       "tensor([[[0.0231, 0.9069, 0.1164, 0.1811],\n",
       "         [0.1231, 0.9121, 0.1734, 0.1440],\n",
       "         [0.4103, 0.9910, 0.9383, 0.1953],\n",
       "         [0.9490, 0.4098, 0.4097, 0.9866],\n",
       "         [0.7898, 0.6319, 0.9465, 0.7814],\n",
       "         [0.4227, 0.0985, 0.2085, 0.7419],\n",
       "         [0.2090, 0.4118, 0.4520, 0.5420],\n",
       "         [0.9598, 0.1507, 0.0703, 0.5290],\n",
       "         [0.1995, 0.8331, 0.3750, 0.4685],\n",
       "         [0.6384, 0.0710, 0.9355, 0.4667],\n",
       "         [0.0764, 0.9438, 0.1120, 0.5199],\n",
       "         [0.8800, 0.7934, 0.5163, 0.0156],\n",
       "         [0.0366, 0.9920, 0.0329, 0.1795],\n",
       "         [0.1657, 0.8166, 0.6513, 0.3141],\n",
       "         [0.1767, 0.1968, 0.7500, 0.5194],\n",
       "         [0.5395, 0.3674, 0.4663, 0.0892],\n",
       "         [0.8732, 0.6033, 0.1611, 0.5102],\n",
       "         [0.4942, 0.1598, 0.8672, 0.2854],\n",
       "         [0.4173, 0.6061, 0.8441, 0.9000],\n",
       "         [0.8130, 0.5572, 0.2969, 0.7112],\n",
       "         [0.0044, 0.5202, 0.4912, 0.3288],\n",
       "         [0.3684, 0.2746, 0.8449, 0.1899],\n",
       "         [0.1247, 0.7859, 0.0730, 0.6687],\n",
       "         [0.8355, 0.5065, 0.7921, 0.2654],\n",
       "         [0.9362, 0.6520, 0.1959, 0.6046],\n",
       "         [0.0508, 0.7646, 0.9146, 0.5276],\n",
       "         [0.3705, 0.7206, 0.2404, 0.8194],\n",
       "         [0.0594, 0.0108, 0.5992, 0.0477],\n",
       "         [0.7818, 0.3219, 0.2398, 0.6625],\n",
       "         [0.6460, 0.1732, 0.7046, 0.4913],\n",
       "         [0.7833, 0.8527, 0.0108, 0.4319],\n",
       "         [0.0830, 0.8430, 0.4802, 0.8852],\n",
       "         [0.3933, 0.4893, 0.0572, 0.7765],\n",
       "         [0.5959, 0.0422, 0.5009, 0.1007],\n",
       "         [0.8625, 0.7533, 0.2621, 0.8138],\n",
       "         [0.4351, 0.9489, 0.9312, 0.6206],\n",
       "         [0.2711, 0.0370, 0.0740, 0.3566],\n",
       "         [0.1123, 0.5357, 0.7677, 0.3252],\n",
       "         [0.4715, 0.1470, 0.9759, 0.7114],\n",
       "         [0.6426, 0.5912, 0.9955, 0.6457],\n",
       "         [0.0512, 0.0245, 0.2304, 0.5903],\n",
       "         [0.9825, 0.1890, 0.0535, 0.8138],\n",
       "         [0.6017, 0.1487, 0.6949, 0.0487],\n",
       "         [0.2068, 0.8063, 0.5637, 0.2764],\n",
       "         [0.8436, 0.6924, 0.1587, 0.6703],\n",
       "         [0.5835, 0.4788, 0.7231, 0.6708],\n",
       "         [0.3251, 0.9128, 0.9520, 0.5738],\n",
       "         [0.3917, 0.6621, 0.5906, 0.5572],\n",
       "         [0.9419, 0.5676, 0.8381, 0.1244],\n",
       "         [0.8269, 0.4767, 0.8351, 0.4973],\n",
       "         [0.9931, 0.0289, 0.9598, 0.0581],\n",
       "         [0.9058, 0.9538, 0.1608, 0.5519],\n",
       "         [0.5077, 0.3835, 0.5179, 0.4949],\n",
       "         [0.0760, 0.6161, 0.0499, 0.9815],\n",
       "         [0.5093, 0.0162, 0.1308, 0.7029],\n",
       "         [0.4238, 0.0861, 0.7141, 0.0510],\n",
       "         [0.0860, 0.7537, 0.9433, 0.4516],\n",
       "         [0.7709, 0.9236, 0.9469, 0.2022],\n",
       "         [0.0000, 0.0000, 0.0000, 0.0000],\n",
       "         [0.0000, 0.0000, 0.0000, 0.0000]]])"
      ]
     },
     "execution_count": 16,
     "metadata": {},
     "output_type": "execute_result"
    }
   ],
   "source": [
    "batch_input['t_input']"
   ]
  },
  {
   "cell_type": "code",
   "execution_count": 17,
   "metadata": {},
   "outputs": [
    {
     "data": {
      "text/plain": [
       "tensor(76)"
      ]
     },
     "execution_count": 17,
     "metadata": {},
     "output_type": "execute_result"
    }
   ],
   "source": [
    "seq_len_drawing[0]"
   ]
  },
  {
   "cell_type": "code",
   "execution_count": 18,
   "metadata": {},
   "outputs": [
    {
     "data": {
      "text/plain": [
       "tensor([[-0.3041, -0.2503,  0.0000],\n",
       "        [-0.0122, -0.1670,  0.0000],\n",
       "        [ 0.1805, -0.1656,  0.0000],\n",
       "        [ 0.2299, -0.2022,  0.0000],\n",
       "        [ 0.2591, -0.2046,  0.0000],\n",
       "        [ 0.2935, -0.1759,  0.0000],\n",
       "        [ 0.3158, -0.1481,  0.0000],\n",
       "        [ 0.3338, -0.1265,  0.0000],\n",
       "        [ 0.3475, -0.0922,  0.0000],\n",
       "        [ 0.3858, -0.0226,  0.0000],\n",
       "        [ 0.4437,  0.0467,  0.0000],\n",
       "        [ 0.5110,  0.1067,  0.0000],\n",
       "        [ 0.5694,  0.1735,  0.0000],\n",
       "        [ 0.6068,  0.2289,  0.0000],\n",
       "        [ 0.6268,  0.2541,  0.0000],\n",
       "        [ 0.6293,  0.2687,  0.0000],\n",
       "        [ 0.6234,  0.2797,  0.0000],\n",
       "        [ 0.6123,  0.3225,  0.0000],\n",
       "        [ 0.5950,  0.4405,  0.0000],\n",
       "        [ 0.5840,  0.5726,  0.0000],\n",
       "        [ 0.5842,  0.6875,  0.0000],\n",
       "        [ 0.5917,  0.7718,  0.0000],\n",
       "        [ 0.5979,  0.8280,  0.0000],\n",
       "        [ 0.5999,  0.8531,  0.0000],\n",
       "        [ 0.6024,  0.8734,  0.0000],\n",
       "        [ 0.5990,  0.8988,  0.0000],\n",
       "        [ 0.5934,  0.9226,  0.0000],\n",
       "        [ 0.5776,  0.9618,  0.0000]])"
      ]
     },
     "execution_count": 18,
     "metadata": {},
     "output_type": "execute_result"
    }
   ],
   "source": [
    "encoder_inputs[0][:28]"
   ]
  },
  {
   "cell_type": "code",
   "execution_count": 19,
   "metadata": {},
   "outputs": [
    {
     "data": {
      "text/plain": [
       "tensor([[ 0.1563, -0.1596,  0.0000],\n",
       "        [-0.7978,  0.1891,  0.0000],\n",
       "        [ 0.3792, -0.0345,  0.0000],\n",
       "        [ 0.6239,  0.2496,  0.0000],\n",
       "        [-0.2779, -0.2948,  0.0000],\n",
       "        [-0.2604, -1.8129,  0.0000],\n",
       "        [-0.2700, -0.3271,  0.0000],\n",
       "        [-0.2750, -0.3040,  0.0000]])"
      ]
     },
     "execution_count": 19,
     "metadata": {},
     "output_type": "execute_result"
    }
   ],
   "source": [
    "target_ink[:8]"
   ]
  },
  {
   "cell_type": "code",
   "execution_count": 20,
   "metadata": {},
   "outputs": [
    {
     "data": {
      "text/plain": [
       "torch.Size([60, 88, 3])"
      ]
     },
     "execution_count": 20,
     "metadata": {},
     "output_type": "execute_result"
    }
   ],
   "source": [
    "encoder_inputs.shape"
   ]
  },
  {
   "cell_type": "code",
   "execution_count": 21,
   "metadata": {},
   "outputs": [
    {
     "data": {
      "text/plain": [
       "torch.Size([240, 3])"
      ]
     },
     "execution_count": 21,
     "metadata": {},
     "output_type": "execute_result"
    }
   ],
   "source": [
    "target_ink.shape"
   ]
  },
  {
   "cell_type": "code",
   "execution_count": 22,
   "metadata": {},
   "outputs": [
    {
     "data": {
      "text/plain": [
       "torch.Size([240, 3])"
      ]
     },
     "execution_count": 22,
     "metadata": {},
     "output_type": "execute_result"
    }
   ],
   "source": [
    "target_ink.shape"
   ]
  },
  {
   "cell_type": "code",
   "execution_count": 23,
   "metadata": {},
   "outputs": [],
   "source": [
    "i_diagram = 2"
   ]
  },
  {
   "cell_type": "code",
   "execution_count": 24,
   "metadata": {},
   "outputs": [
    {
     "ename": "PermissionError",
     "evalue": "[Errno 13] Permission denied: '/home/ajimenez/pruebas/noutput_pruebas.jpg'",
     "output_type": "error",
     "traceback": [
      "\u001b[0;31m---------------------------------------------------------------------------\u001b[0m",
      "\u001b[0;31mPermissionError\u001b[0m                           Traceback (most recent call last)",
      "\u001b[0;32m<ipython-input-24-6da4ff2943dc>\u001b[0m in \u001b[0;36m<module>\u001b[0;34m\u001b[0m\n\u001b[1;32m      1\u001b[0m npfig, fig, _, _ = transform_strokes_to_image(enc_inputs[i_diagram], seq_len[i_diagram], st_coord[i_diagram], mean_channel,\n\u001b[0;32m----> 2\u001b[0;31m                                std_channel, num_strokes=num_strokes[i_diagram], stroke_pred=None, start_coord_pred=None, output_path = log_dir, output_file = 'noutput_pruebas',  save  = True, square_figure=True, alpha=0.5, highlight_start=True)\n\u001b[0m",
      "\u001b[0;32m~/CoSE/CoSE-pytorch/utils/visualization.py\u001b[0m in \u001b[0;36mtransform_strokes_to_image\u001b[0;34m(drawing, seq_len_drawing, start_coord_drawing, mean_channel, std_channel, num_strokes, stroke_pred, start_coord_pred, output_path, output_file, save, square_figure, x_borders, y_borders, colors, marker_size, alpha, highlight_start)\u001b[0m\n\u001b[1;32m    163\u001b[0m     \u001b[0;32mif\u001b[0m \u001b[0msave\u001b[0m\u001b[0;34m:\u001b[0m\u001b[0;34m\u001b[0m\u001b[0;34m\u001b[0m\u001b[0m\n\u001b[1;32m    164\u001b[0m         \u001b[0msave_path\u001b[0m \u001b[0;34m=\u001b[0m \u001b[0mos\u001b[0m\u001b[0;34m.\u001b[0m\u001b[0mpath\u001b[0m\u001b[0;34m.\u001b[0m\u001b[0mjoin\u001b[0m\u001b[0;34m(\u001b[0m\u001b[0moutput_path\u001b[0m\u001b[0;34m,\u001b[0m \u001b[0moutput_file\u001b[0m\u001b[0;34m)\u001b[0m \u001b[0;34m+\u001b[0m \u001b[0;34m\".jpg\"\u001b[0m\u001b[0;34m\u001b[0m\u001b[0;34m\u001b[0m\u001b[0m\n\u001b[0;32m--> 165\u001b[0;31m         \u001b[0mfig\u001b[0m\u001b[0;34m.\u001b[0m\u001b[0msavefig\u001b[0m\u001b[0;34m(\u001b[0m\u001b[0msave_path\u001b[0m \u001b[0;34m,\u001b[0m \u001b[0mformat\u001b[0m\u001b[0;34m=\u001b[0m\u001b[0;34m\"JPEG\"\u001b[0m\u001b[0;34m)\u001b[0m\u001b[0;34m\u001b[0m\u001b[0;34m\u001b[0m\u001b[0m\n\u001b[0m\u001b[1;32m    166\u001b[0m \u001b[0;31m#             with tf.io.gfile.GFile(save_path + \".png\", \"w\") as tf_save_path:\u001b[0m\u001b[0;34m\u001b[0m\u001b[0;34m\u001b[0m\u001b[0;34m\u001b[0m\u001b[0m\n\u001b[1;32m    167\u001b[0m \u001b[0;31m#                 fig.savefig(tf_save_path, format=\"png\", bbox_inches='tight', dpi=200)\u001b[0m\u001b[0;34m\u001b[0m\u001b[0;34m\u001b[0m\u001b[0;34m\u001b[0m\u001b[0m\n",
      "\u001b[0;32m/usr/lib/python3/dist-packages/matplotlib/figure.py\u001b[0m in \u001b[0;36msavefig\u001b[0;34m(self, fname, **kwargs)\u001b[0m\n\u001b[1;32m   1832\u001b[0m             \u001b[0mself\u001b[0m\u001b[0;34m.\u001b[0m\u001b[0mset_frameon\u001b[0m\u001b[0;34m(\u001b[0m\u001b[0mframeon\u001b[0m\u001b[0;34m)\u001b[0m\u001b[0;34m\u001b[0m\u001b[0;34m\u001b[0m\u001b[0m\n\u001b[1;32m   1833\u001b[0m \u001b[0;34m\u001b[0m\u001b[0m\n\u001b[0;32m-> 1834\u001b[0;31m         \u001b[0mself\u001b[0m\u001b[0;34m.\u001b[0m\u001b[0mcanvas\u001b[0m\u001b[0;34m.\u001b[0m\u001b[0mprint_figure\u001b[0m\u001b[0;34m(\u001b[0m\u001b[0mfname\u001b[0m\u001b[0;34m,\u001b[0m \u001b[0;34m**\u001b[0m\u001b[0mkwargs\u001b[0m\u001b[0;34m)\u001b[0m\u001b[0;34m\u001b[0m\u001b[0;34m\u001b[0m\u001b[0m\n\u001b[0m\u001b[1;32m   1835\u001b[0m \u001b[0;34m\u001b[0m\u001b[0m\n\u001b[1;32m   1836\u001b[0m         \u001b[0;32mif\u001b[0m \u001b[0mframeon\u001b[0m\u001b[0;34m:\u001b[0m\u001b[0;34m\u001b[0m\u001b[0;34m\u001b[0m\u001b[0m\n",
      "\u001b[0;32m/usr/lib/python3/dist-packages/matplotlib/backend_bases.py\u001b[0m in \u001b[0;36mprint_figure\u001b[0;34m(self, filename, dpi, facecolor, edgecolor, orientation, format, **kwargs)\u001b[0m\n\u001b[1;32m   2265\u001b[0m                 \u001b[0morientation\u001b[0m\u001b[0;34m=\u001b[0m\u001b[0morientation\u001b[0m\u001b[0;34m,\u001b[0m\u001b[0;34m\u001b[0m\u001b[0;34m\u001b[0m\u001b[0m\n\u001b[1;32m   2266\u001b[0m                 \u001b[0mbbox_inches_restore\u001b[0m\u001b[0;34m=\u001b[0m\u001b[0m_bbox_inches_restore\u001b[0m\u001b[0;34m,\u001b[0m\u001b[0;34m\u001b[0m\u001b[0;34m\u001b[0m\u001b[0m\n\u001b[0;32m-> 2267\u001b[0;31m                 **kwargs)\n\u001b[0m\u001b[1;32m   2268\u001b[0m         \u001b[0;32mfinally\u001b[0m\u001b[0;34m:\u001b[0m\u001b[0;34m\u001b[0m\u001b[0;34m\u001b[0m\u001b[0m\n\u001b[1;32m   2269\u001b[0m             \u001b[0;32mif\u001b[0m \u001b[0mbbox_inches\u001b[0m \u001b[0;32mand\u001b[0m \u001b[0mrestore_bbox\u001b[0m\u001b[0;34m:\u001b[0m\u001b[0;34m\u001b[0m\u001b[0;34m\u001b[0m\u001b[0m\n",
      "\u001b[0;32m/usr/lib/python3/dist-packages/matplotlib/backends/backend_agg.py\u001b[0m in \u001b[0;36mprint_jpg\u001b[0;34m(self, filename_or_obj, *args, **kwargs)\u001b[0m\n\u001b[1;32m    582\u001b[0m                 \u001b[0moptions\u001b[0m\u001b[0;34m[\u001b[0m\u001b[0;34m'dpi'\u001b[0m\u001b[0;34m]\u001b[0m \u001b[0;34m=\u001b[0m \u001b[0;34m(\u001b[0m\u001b[0moptions\u001b[0m\u001b[0;34m[\u001b[0m\u001b[0;34m'dpi'\u001b[0m\u001b[0;34m]\u001b[0m\u001b[0;34m,\u001b[0m \u001b[0moptions\u001b[0m\u001b[0;34m[\u001b[0m\u001b[0;34m'dpi'\u001b[0m\u001b[0;34m]\u001b[0m\u001b[0;34m)\u001b[0m\u001b[0;34m\u001b[0m\u001b[0;34m\u001b[0m\u001b[0m\n\u001b[1;32m    583\u001b[0m \u001b[0;34m\u001b[0m\u001b[0m\n\u001b[0;32m--> 584\u001b[0;31m             \u001b[0;32mreturn\u001b[0m \u001b[0mbackground\u001b[0m\u001b[0;34m.\u001b[0m\u001b[0msave\u001b[0m\u001b[0;34m(\u001b[0m\u001b[0mfilename_or_obj\u001b[0m\u001b[0;34m,\u001b[0m \u001b[0mformat\u001b[0m\u001b[0;34m=\u001b[0m\u001b[0;34m'jpeg'\u001b[0m\u001b[0;34m,\u001b[0m \u001b[0;34m**\u001b[0m\u001b[0moptions\u001b[0m\u001b[0;34m)\u001b[0m\u001b[0;34m\u001b[0m\u001b[0;34m\u001b[0m\u001b[0m\n\u001b[0m\u001b[1;32m    585\u001b[0m         \u001b[0mprint_jpeg\u001b[0m \u001b[0;34m=\u001b[0m \u001b[0mprint_jpg\u001b[0m\u001b[0;34m\u001b[0m\u001b[0;34m\u001b[0m\u001b[0m\n\u001b[1;32m    586\u001b[0m \u001b[0;34m\u001b[0m\u001b[0m\n",
      "\u001b[0;32m/usr/lib/python3/dist-packages/PIL/Image.py\u001b[0m in \u001b[0;36msave\u001b[0;34m(self, fp, format, **params)\u001b[0m\n\u001b[1;32m   1930\u001b[0m                 \u001b[0;31m# Open also for reading (\"+\"), because TIFF save_all\u001b[0m\u001b[0;34m\u001b[0m\u001b[0;34m\u001b[0m\u001b[0;34m\u001b[0m\u001b[0m\n\u001b[1;32m   1931\u001b[0m                 \u001b[0;31m# writer needs to go back and edit the written data.\u001b[0m\u001b[0;34m\u001b[0m\u001b[0;34m\u001b[0m\u001b[0;34m\u001b[0m\u001b[0m\n\u001b[0;32m-> 1932\u001b[0;31m                 \u001b[0mfp\u001b[0m \u001b[0;34m=\u001b[0m \u001b[0mbuiltins\u001b[0m\u001b[0;34m.\u001b[0m\u001b[0mopen\u001b[0m\u001b[0;34m(\u001b[0m\u001b[0mfilename\u001b[0m\u001b[0;34m,\u001b[0m \u001b[0;34m\"w+b\"\u001b[0m\u001b[0;34m)\u001b[0m\u001b[0;34m\u001b[0m\u001b[0;34m\u001b[0m\u001b[0m\n\u001b[0m\u001b[1;32m   1933\u001b[0m \u001b[0;34m\u001b[0m\u001b[0m\n\u001b[1;32m   1934\u001b[0m         \u001b[0;32mtry\u001b[0m\u001b[0;34m:\u001b[0m\u001b[0;34m\u001b[0m\u001b[0;34m\u001b[0m\u001b[0m\n",
      "\u001b[0;31mPermissionError\u001b[0m: [Errno 13] Permission denied: '/home/ajimenez/pruebas/noutput_pruebas.jpg'"
     ]
    },
    {
     "data": {
      "image/png": "[encoded data removed]",
      "text/plain": [
       "<matplotlib.figure.Figure at 0x7fd63c13a470>"
      ]
     },
     "metadata": {
      "needs_background": "light"
     },
     "output_type": "display_data"
    }
   ],
   "source": [
    "npfig, fig, _, _ = transform_strokes_to_image(enc_inputs[i_diagram], seq_len[i_diagram], st_coord[i_diagram], mean_channel,\n",
    "                               std_channel, num_strokes=num_strokes[i_diagram], stroke_pred=None, start_coord_pred=None, output_path = log_dir, output_file = 'noutput_pruebas',  save  = True, square_figure=True, alpha=0.5, highlight_start=True)"
   ]
  },
  {
   "cell_type": "markdown",
   "metadata": {},
   "source": [
    "## Pasando data por el modelo"
   ]
  },
  {
   "cell_type": "code",
   "execution_count": 25,
   "metadata": {},
   "outputs": [],
   "source": [
    "device = \"cuda:0\""
   ]
  },
  {
   "cell_type": "code",
   "execution_count": 26,
   "metadata": {},
   "outputs": [],
   "source": [
    "encoder_inputs = batch_input['encoder_inputs'].squeeze(dim = 0).to(device)\n",
    "num_strokes = batch_input['num_strokes'].squeeze(dim = 0).to(device)\n",
    "strok_len_inputs = batch_input['seq_len'].squeeze(dim = 0).to(device)\n",
    "start_coord = batch_input['start_coord'].squeeze(dim = 0).squeeze().to(device)\n",
    "end_coord = batch_input['end_coord'].squeeze(dim = 0).squeeze().to(device)"
   ]
  },
  {
   "cell_type": "code",
   "execution_count": 27,
   "metadata": {},
   "outputs": [],
   "source": [
    "_, look_ahead_mask, _ = generate_3d_mask(encoder_inputs, strok_len_inputs,'cuda:0')"
   ]
  },
  {
   "cell_type": "code",
   "execution_count": 28,
   "metadata": {},
   "outputs": [],
   "source": [
    "seq_mask = 1 - (torch.arange(strok_len_inputs.max().item()).to(device)[None, :] < strok_len_inputs[:, None]).float()\n",
    "#seq_mask  = seq_mask.masked_fill(seq_mask == 1, float('-inf')).unsqueeze(dim=2).repeat(1,1,seq_mask.shape[1])"
   ]
  },
  {
   "cell_type": "code",
   "execution_count": 29,
   "metadata": {},
   "outputs": [
    {
     "data": {
      "text/plain": [
       "torch.Size([60, 88])"
      ]
     },
     "execution_count": 29,
     "metadata": {},
     "output_type": "execute_result"
    }
   ],
   "source": [
    "seq_mask.shape"
   ]
  },
  {
   "cell_type": "code",
   "execution_count": 30,
   "metadata": {},
   "outputs": [
    {
     "data": {
      "text/plain": [
       "torch.Size([88, 88])"
      ]
     },
     "execution_count": 30,
     "metadata": {},
     "output_type": "execute_result"
    }
   ],
   "source": [
    "look_ahead_mask.shape"
   ]
  },
  {
   "cell_type": "code",
   "execution_count": 31,
   "metadata": {},
   "outputs": [],
   "source": [
    "encoder_out = cose.encoder(encoder_inputs.permute(1,0,2), strok_len_inputs, look_ahead_mask)"
   ]
  },
  {
   "cell_type": "code",
   "execution_count": 32,
   "metadata": {},
   "outputs": [],
   "source": [
    "def get_random_inp_target_pairs(num_strokes_x_diagram_tensor, padded_max_num_strokes, num_diagrams, min_n_stroke, device):\n",
    "    #TODO Revisar\n",
    "    \"\"\"Get a randomly generated input set and a target.\"\"\"\n",
    "    n_inputs = torch.randint(2, min_n_stroke,size = (1,)).to(device).item() #validated with tf\n",
    "    target_indexes = (torch.rand([num_diagrams]).to(device)*(num_strokes_x_diagram_tensor - 1)).int() #validated with tf\n",
    "    input_range = torch.arange(start=0, end = padded_max_num_strokes).repeat(num_diagrams,1).to(device) #validated with tf\n",
    "    mask = (input_range< num_strokes_x_diagram_tensor.reshape(-1,1)) & (input_range != target_indexes.reshape(-1,1)) #validated with tf\n",
    "    input_indexes = torch.multinomial((input_range*mask).float().to(device),n_inputs) #validated with tf\n",
    "    return input_indexes, target_indexes, n_inputs\n",
    "\n",
    "def get_ordered_inp_target_pairs(num_strokes_x_diagram_tensor, padded_max_num_strokes, num_diagrams, min_n_stroke, device, random_target = False):\n",
    "    #TODO Revisar\n",
    "    \"\"\"Get a slice (i.e., window) randomly.\"\"\"\n",
    "    n_inputs = torch.randint(2, min_n_stroke,size = (1,)).to(device).item()\n",
    "    start_index = torch.randint(0, min_n_stroke - n_inputs, size = (1,)).to(device).item()\n",
    "    target_indexes = torch.tensor([start_index+n_inputs]).repeat(num_diagrams,1).to(device)\n",
    "    input_range = torch.arange(start=0, end = padded_max_num_strokes).repeat(num_diagrams,1).to(device)    \n",
    "    mask = ((input_range)< target_indexes) & ((input_range)>= start_index)\n",
    "    input_indexes = input_range.masked_select(mask).reshape(num_diagrams, n_inputs)\n",
    "    return input_indexes, target_indexes, n_inputs"
   ]
  },
  {
   "cell_type": "code",
   "execution_count": 33,
   "metadata": {},
   "outputs": [],
   "source": [
    "diagram_embedding, padded_max_num_strokes, min_n_stroke, num_diagrams = reshape_stroke2diagram(encoder_out,num_strokes)"
   ]
  },
  {
   "cell_type": "code",
   "execution_count": 34,
   "metadata": {},
   "outputs": [
    {
     "data": {
      "text/plain": [
       "20"
      ]
     },
     "execution_count": 34,
     "metadata": {},
     "output_type": "execute_result"
    }
   ],
   "source": [
    "padded_max_num_strokes"
   ]
  },
  {
   "cell_type": "code",
   "execution_count": 35,
   "metadata": {},
   "outputs": [],
   "source": [
    "_1,_2,_3 = get_ordered_inp_target_pairs(num_strokes, padded_max_num_strokes, num_diagrams, min_n_stroke, device, random_target = False)"
   ]
  },
  {
   "cell_type": "code",
   "execution_count": 36,
   "metadata": {},
   "outputs": [
    {
     "data": {
      "text/plain": [
       "tensor([[ 1,  2,  3,  4,  5,  6,  7,  8,  9, 10, 11, 12, 13, 14],\n",
       "        [ 1,  2,  3,  4,  5,  6,  7,  8,  9, 10, 11, 12, 13, 14],\n",
       "        [ 1,  2,  3,  4,  5,  6,  7,  8,  9, 10, 11, 12, 13, 14]],\n",
       "       device='cuda:0')"
      ]
     },
     "execution_count": 36,
     "metadata": {},
     "output_type": "execute_result"
    }
   ],
   "source": [
    "_1"
   ]
  },
  {
   "cell_type": "code",
   "execution_count": 37,
   "metadata": {},
   "outputs": [
    {
     "data": {
      "text/plain": [
       "tensor([[15],\n",
       "        [15],\n",
       "        [15]], device='cuda:0')"
      ]
     },
     "execution_count": 37,
     "metadata": {},
     "output_type": "execute_result"
    }
   ],
   "source": [
    "_2"
   ]
  },
  {
   "cell_type": "code",
   "execution_count": 38,
   "metadata": {},
   "outputs": [
    {
     "data": {
      "text/plain": [
       "14"
      ]
     },
     "execution_count": 38,
     "metadata": {},
     "output_type": "execute_result"
    }
   ],
   "source": [
    "_3"
   ]
  },
  {
   "cell_type": "markdown",
   "metadata": {},
   "source": [
    "### sample random inp target pair"
   ]
  },
  {
   "cell_type": "code",
   "execution_count": 39,
   "metadata": {},
   "outputs": [],
   "source": [
    "start_coord = start_coord\n",
    "end_coord = end_coord\n",
    "num_strokes_x_diagram_tensor = num_strokes\n",
    "input_type =\"hybrid\"\n",
    "num_predictive_inputs = 32\n",
    "replace_padding = True,\n",
    "end_positions = False"
   ]
  },
  {
   "cell_type": "raw",
   "metadata": {},
   "source": [
    "diagram_embedding, padded_max_num_strokes, min_n_stroke, num_diagrams = reshape_stroke2diagram(encoder_out,num_strokes_x_diagram_tensor)"
   ]
  },
  {
   "cell_type": "raw",
   "metadata": {},
   "source": [
    "#obtains diagram embedding (batch_strokes, embedding_size) -> (num_diagrams, padded_n_strokes, embedding_size)\n",
    "diagram_embedding, padded_max_num_strokes, min_n_stroke, num_diagrams = reshape_stroke2diagram(encoder_out,num_strokes_x_diagram_tensor)\n",
    "start_pos_base = inputs_start_coord.reshape(num_diagrams,padded_max_num_strokes,2)"
   ]
  },
  {
   "cell_type": "code",
   "execution_count": 40,
   "metadata": {},
   "outputs": [],
   "source": [
    "def random_index_sampling(encoder_out,inputs_start_coord,inputs_end_coord,num_strokes_x_diagram_tensor,\n",
    "                         input_type =\"hybrid\", num_predictive_inputs = 32, replace_padding = True, end_positions = False, device = None):\n",
    "    #================================#\n",
    "    diagram_embedding, padded_max_num_strokes, min_n_stroke, num_diagrams = reshape_stroke2diagram(encoder_out,num_strokes_x_diagram_tensor)\n",
    "    start_pos_base = inputs_start_coord.reshape(num_diagrams,padded_max_num_strokes,2)\n",
    "    #num_predictive_inputs = 32\n",
    "    if input_type == \"hybrid\":\n",
    "        num_predictive_inputs //= 2\n",
    "    #creates indexes to gather from\n",
    "    # -----------------------#\n",
    "    all_input_emb = []\n",
    "    all_input_start_pos = []\n",
    "    all_seq_len_emb = []\n",
    "    #-----------------------#\n",
    "    all_target_emb = []\n",
    "    all_target_start_pos = []\n",
    "    all_n_inputs = []\n",
    "\n",
    "    if input_type in [\"random\", \"hybrid\"]:\n",
    "        for i in range(num_predictive_inputs):\n",
    "            input_indexes, target_indexes, n_inputs = get_random_inp_target_pairs(num_strokes_x_diagram_tensor,\n",
    "                                                                                  padded_max_num_strokes,\n",
    "                                                                                  num_diagrams,\n",
    "                                                                                  min_n_stroke, device)\n",
    "            #-------------------------------------#\n",
    "            input_embedding = torch.stack([diagram_embedding[diagram_index][input_indexes[diagram_index]] for diagram_index in range(num_diagrams)])\n",
    "            input_start_pos = torch.stack([start_pos_base[diagram_index][input_indexes[diagram_index]] for diagram_index in range(num_diagrams)])\n",
    "            target_embedding = torch.stack([diagram_embedding[diagram_index][target_indexes[diagram_index]] for diagram_index in range(num_diagrams)]).squeeze()\n",
    "            target_start_pos = torch.stack([start_pos_base[diagram_index][target_indexes[diagram_index]] for diagram_index in range(num_diagrams)]).squeeze()\n",
    "            seq_len_embedding = torch.ones([num_diagrams])*n_inputs\n",
    "            #---------------------------------------#\n",
    "            all_input_emb.append(input_embedding)\n",
    "            all_input_start_pos.append(input_start_pos)\n",
    "            all_target_emb.append(target_embedding)\n",
    "            all_target_start_pos.append(target_start_pos)\n",
    "            all_seq_len_emb.append(seq_len_embedding)\n",
    "            all_n_inputs.append(n_inputs)\n",
    "    if input_type in [\"order\", \"hybrid\"]:\n",
    "        for i in range(num_predictive_inputs):\n",
    "            input_indexes, target_indexes, n_inputs = get_ordered_inp_target_pairs(num_strokes_x_diagram_tensor,\n",
    "                                                                                   padded_max_num_strokes,\n",
    "                                                                                   num_diagrams,\n",
    "                                                                                   min_n_stroke, device)\n",
    "            #----------------------------------------------------#\n",
    "            input_embedding = torch.stack([diagram_embedding[diagram_index][input_indexes[diagram_index]] for diagram_index in range(num_diagrams)])\n",
    "            input_start_pos = torch.stack([start_pos_base[diagram_index][input_indexes[diagram_index]] for diagram_index in range(num_diagrams)])\n",
    "            target_embedding = torch.stack([diagram_embedding[diagram_index][target_indexes[diagram_index]] for diagram_index in range(num_diagrams)]).squeeze()\n",
    "            target_start_pos = torch.stack([start_pos_base[diagram_index][target_indexes[diagram_index]] for diagram_index in range(num_diagrams)]).squeeze()\n",
    "            seq_len_embedding = torch.ones([num_diagrams])*n_inputs\n",
    "            #-----------------------------------------------------#\n",
    "            all_input_emb.append(input_embedding)\n",
    "            all_input_start_pos.append(input_start_pos)\n",
    "            all_target_emb.append(target_embedding)\n",
    "            all_target_start_pos.append(target_start_pos)\n",
    "            all_seq_len_emb.append(seq_len_embedding)\n",
    "            all_n_inputs.append(n_inputs)\n",
    "            #------------------------------------------------------#\n",
    "    sampled_seq_len_emb = torch.stack(all_seq_len_emb)\n",
    "    sampled_target_start_pos = torch.stack(all_target_start_pos)\n",
    "    sampled_target_emb = torch.stack(all_target_emb)\n",
    "    sampled_input_start_pos = torch.zeros(32, num_diagrams, max(all_n_inputs),2)\n",
    "    #-------------------------------------------------------------#\n",
    "    for i_sample, sampled_data in enumerate(all_input_start_pos):\n",
    "        for i_diagram, content in enumerate(sampled_data):\n",
    "            sampled_input_start_pos[i_sample,i_diagram,:int(all_seq_len_emb[i_sample][i_diagram]),:] = content\n",
    "\n",
    "    sampled_input_emb = torch.zeros(32, num_diagrams, max(all_n_inputs),8)\n",
    "    for i_sample, sampled_data in enumerate(all_input_emb):\n",
    "        for i_diagram, content in enumerate(sampled_data):\n",
    "            sampled_input_emb[i_sample,i_diagram,:int(all_seq_len_emb[i_sample][i_diagram]),:] = content\n",
    "    #-------------------------------------------------------------#\n",
    "    sampled_input_start_pos = sampled_input_start_pos.reshape(-1, sampled_input_start_pos.size(-2), sampled_input_start_pos.size(-1))\n",
    "    sampled_input_emb = sampled_input_emb.reshape(-1, sampled_input_emb.size(-2), sampled_input_emb.size(-1)).to(device)\n",
    "    sampled_seq_len_emb = sampled_seq_len_emb.reshape(-1)\n",
    "    sampled_target_start_pos = sampled_target_start_pos.reshape(-1, sampled_target_start_pos.size(-1))\n",
    "    sampled_target_emb = sampled_target_emb.reshape(-1, sampled_target_emb.size(-1))\n",
    "    return sampled_input_start_pos, sampled_input_emb, sampled_seq_len_emb, sampled_target_start_pos, sampled_target_emb"
   ]
  },
  {
   "cell_type": "code",
   "execution_count": 41,
   "metadata": {},
   "outputs": [],
   "source": [
    "sampled_input_start_pos, sampled_input_emb,sampled_seq_len_emb,sampled_target_start_pos,sampled_target_emb = random_index_sampling(encoder_out = encoder_out, inputs_start_coord = start_coord,\n",
    "                                                                                                                                   inputs_end_coord = end_coord, num_strokes_x_diagram_tensor = num_strokes,\n",
    "                                                                                                                                   input_type =\"hybrid\", num_predictive_inputs = 32,\n",
    "                                                                                                                                   replace_padding = True, end_positions = False, device = device)"
   ]
  },
  {
   "cell_type": "code",
   "execution_count": 42,
   "metadata": {},
   "outputs": [
    {
     "data": {
      "text/plain": [
       "torch.Size([96, 17, 2])"
      ]
     },
     "execution_count": 42,
     "metadata": {},
     "output_type": "execute_result"
    }
   ],
   "source": [
    "sampled_input_start_pos.shape"
   ]
  },
  {
   "cell_type": "code",
   "execution_count": 43,
   "metadata": {},
   "outputs": [
    {
     "data": {
      "text/plain": [
       "torch.Size([96, 17, 8])"
      ]
     },
     "execution_count": 43,
     "metadata": {},
     "output_type": "execute_result"
    }
   ],
   "source": [
    "sampled_input_emb.shape"
   ]
  },
  {
   "cell_type": "code",
   "execution_count": 44,
   "metadata": {},
   "outputs": [
    {
     "data": {
      "text/plain": [
       "torch.Size([96])"
      ]
     },
     "execution_count": 44,
     "metadata": {},
     "output_type": "execute_result"
    }
   ],
   "source": [
    "sampled_seq_len_emb.shape"
   ]
  },
  {
   "cell_type": "code",
   "execution_count": 45,
   "metadata": {},
   "outputs": [
    {
     "data": {
      "text/plain": [
       "tensor([14., 14., 14., 14., 14., 14., 13., 13., 13.,  4.,  4.,  4.,  8.,  8.,\n",
       "         8., 15., 15., 15., 13., 13., 13., 15., 15., 15., 13., 13., 13.,  9.,\n",
       "         9.,  9., 13., 13., 13.,  4.,  4.,  4.,  5.,  5.,  5., 14., 14., 14.,\n",
       "         9.,  9.,  9.,  3.,  3.,  3., 12., 12., 12., 17., 17., 17., 10., 10.,\n",
       "        10., 13., 13., 13., 13., 13., 13.,  3.,  3.,  3.,  8.,  8.,  8., 14.,\n",
       "        14., 14., 15., 15., 15., 12., 12., 12.,  7.,  7.,  7., 11., 11., 11.,\n",
       "        10., 10., 10., 12., 12., 12.,  6.,  6.,  6., 11., 11., 11.])"
      ]
     },
     "execution_count": 45,
     "metadata": {},
     "output_type": "execute_result"
    }
   ],
   "source": [
    "sampled_seq_len_emb"
   ]
  },
  {
   "cell_type": "code",
   "execution_count": null,
   "metadata": {},
   "outputs": [],
   "source": []
  },
  {
   "cell_type": "code",
   "execution_count": null,
   "metadata": {},
   "outputs": [],
   "source": []
  },
  {
   "cell_type": "code",
   "execution_count": 46,
   "metadata": {},
   "outputs": [
    {
     "data": {
      "text/plain": [
       "torch.Size([96, 2])"
      ]
     },
     "execution_count": 46,
     "metadata": {},
     "output_type": "execute_result"
    }
   ],
   "source": [
    "sampled_target_start_pos.shape"
   ]
  },
  {
   "cell_type": "code",
   "execution_count": null,
   "metadata": {},
   "outputs": [],
   "source": []
  },
  {
   "cell_type": "code",
   "execution_count": 47,
   "metadata": {},
   "outputs": [
    {
     "data": {
      "text/plain": [
       "(device(type='cpu'),\n",
       " device(type='cuda', index=0),\n",
       " device(type='cpu'),\n",
       " device(type='cuda', index=0),\n",
       " device(type='cuda', index=0))"
      ]
     },
     "execution_count": 47,
     "metadata": {},
     "output_type": "execute_result"
    }
   ],
   "source": [
    "sampled_input_start_pos.device,sampled_input_emb.device, sampled_seq_len_emb.device, sampled_target_start_pos.device, sampled_target_emb.device"
   ]
  },
  {
   "cell_type": "code",
   "execution_count": null,
   "metadata": {},
   "outputs": [],
   "source": []
  },
  {
   "cell_type": "code",
   "execution_count": null,
   "metadata": {},
   "outputs": [],
   "source": []
  },
  {
   "cell_type": "code",
   "execution_count": 48,
   "metadata": {},
   "outputs": [
    {
     "data": {
      "text/plain": [
       "torch.Size([96, 17, 2])"
      ]
     },
     "execution_count": 48,
     "metadata": {},
     "output_type": "execute_result"
    }
   ],
   "source": [
    "sampled_input_start_pos.shape"
   ]
  },
  {
   "cell_type": "code",
   "execution_count": 49,
   "metadata": {},
   "outputs": [
    {
     "data": {
      "text/plain": [
       "torch.Size([96, 2])"
      ]
     },
     "execution_count": 49,
     "metadata": {},
     "output_type": "execute_result"
    }
   ],
   "source": [
    "sampled_target_start_pos.shape"
   ]
  },
  {
   "cell_type": "code",
   "execution_count": 50,
   "metadata": {},
   "outputs": [],
   "source": [
    "num_predictive_inputs = 32\n",
    "if input_type == \"hybrid\":\n",
    "    num_predictive_inputs //= 2"
   ]
  },
  {
   "cell_type": "code",
   "execution_count": 51,
   "metadata": {},
   "outputs": [
    {
     "ename": "NameError",
     "evalue": "name 'start_pos_base' is not defined",
     "output_type": "error",
     "traceback": [
      "\u001b[0;31m---------------------------------------------------------------------------\u001b[0m",
      "\u001b[0;31mNameError\u001b[0m                                 Traceback (most recent call last)",
      "\u001b[0;32m<ipython-input-51-4200ddf7d3a9>\u001b[0m in \u001b[0;36m<module>\u001b[0;34m\u001b[0m\n\u001b[1;32m     17\u001b[0m         \u001b[0;31m####\u001b[0m\u001b[0;34m\u001b[0m\u001b[0;34m\u001b[0m\u001b[0;34m\u001b[0m\u001b[0m\n\u001b[1;32m     18\u001b[0m         \u001b[0minput_embedding\u001b[0m \u001b[0;34m=\u001b[0m \u001b[0mtorch\u001b[0m\u001b[0;34m.\u001b[0m\u001b[0mstack\u001b[0m\u001b[0;34m(\u001b[0m\u001b[0;34m[\u001b[0m\u001b[0mdiagram_embedding\u001b[0m\u001b[0;34m[\u001b[0m\u001b[0mdiagram_index\u001b[0m\u001b[0;34m]\u001b[0m\u001b[0;34m[\u001b[0m\u001b[0minput_indexes\u001b[0m\u001b[0;34m[\u001b[0m\u001b[0mdiagram_index\u001b[0m\u001b[0;34m]\u001b[0m\u001b[0;34m]\u001b[0m \u001b[0;32mfor\u001b[0m \u001b[0mdiagram_index\u001b[0m \u001b[0;32min\u001b[0m \u001b[0mrange\u001b[0m\u001b[0;34m(\u001b[0m\u001b[0mnum_diagrams\u001b[0m\u001b[0;34m)\u001b[0m\u001b[0;34m]\u001b[0m\u001b[0;34m)\u001b[0m\u001b[0;34m\u001b[0m\u001b[0;34m\u001b[0m\u001b[0m\n\u001b[0;32m---> 19\u001b[0;31m         \u001b[0minput_start_pos\u001b[0m \u001b[0;34m=\u001b[0m \u001b[0mtorch\u001b[0m\u001b[0;34m.\u001b[0m\u001b[0mstack\u001b[0m\u001b[0;34m(\u001b[0m\u001b[0;34m[\u001b[0m\u001b[0mstart_pos_base\u001b[0m\u001b[0;34m[\u001b[0m\u001b[0mdiagram_index\u001b[0m\u001b[0;34m]\u001b[0m\u001b[0;34m[\u001b[0m\u001b[0minput_indexes\u001b[0m\u001b[0;34m[\u001b[0m\u001b[0mdiagram_index\u001b[0m\u001b[0;34m]\u001b[0m\u001b[0;34m]\u001b[0m \u001b[0;32mfor\u001b[0m \u001b[0mdiagram_index\u001b[0m \u001b[0;32min\u001b[0m \u001b[0mrange\u001b[0m\u001b[0;34m(\u001b[0m\u001b[0mnum_diagrams\u001b[0m\u001b[0;34m)\u001b[0m\u001b[0;34m]\u001b[0m\u001b[0;34m)\u001b[0m\u001b[0;34m\u001b[0m\u001b[0;34m\u001b[0m\u001b[0m\n\u001b[0m\u001b[1;32m     20\u001b[0m         \u001b[0mtarget_embedding\u001b[0m \u001b[0;34m=\u001b[0m \u001b[0mtorch\u001b[0m\u001b[0;34m.\u001b[0m\u001b[0mstack\u001b[0m\u001b[0;34m(\u001b[0m\u001b[0;34m[\u001b[0m\u001b[0mdiagram_embedding\u001b[0m\u001b[0;34m[\u001b[0m\u001b[0mdiagram_index\u001b[0m\u001b[0;34m]\u001b[0m\u001b[0;34m[\u001b[0m\u001b[0mtarget_indexes\u001b[0m\u001b[0;34m[\u001b[0m\u001b[0mdiagram_index\u001b[0m\u001b[0;34m]\u001b[0m\u001b[0;34m]\u001b[0m \u001b[0;32mfor\u001b[0m \u001b[0mdiagram_index\u001b[0m \u001b[0;32min\u001b[0m \u001b[0mrange\u001b[0m\u001b[0;34m(\u001b[0m\u001b[0mnum_diagrams\u001b[0m\u001b[0;34m)\u001b[0m\u001b[0;34m]\u001b[0m\u001b[0;34m)\u001b[0m\u001b[0;34m.\u001b[0m\u001b[0msqueeze\u001b[0m\u001b[0;34m(\u001b[0m\u001b[0;34m)\u001b[0m\u001b[0;34m\u001b[0m\u001b[0;34m\u001b[0m\u001b[0m\n\u001b[1;32m     21\u001b[0m         \u001b[0mtarget_start_pos\u001b[0m \u001b[0;34m=\u001b[0m \u001b[0mtorch\u001b[0m\u001b[0;34m.\u001b[0m\u001b[0mstack\u001b[0m\u001b[0;34m(\u001b[0m\u001b[0;34m[\u001b[0m\u001b[0mstart_pos_base\u001b[0m\u001b[0;34m[\u001b[0m\u001b[0mdiagram_index\u001b[0m\u001b[0;34m]\u001b[0m\u001b[0;34m[\u001b[0m\u001b[0mtarget_indexes\u001b[0m\u001b[0;34m[\u001b[0m\u001b[0mdiagram_index\u001b[0m\u001b[0;34m]\u001b[0m\u001b[0;34m]\u001b[0m \u001b[0;32mfor\u001b[0m \u001b[0mdiagram_index\u001b[0m \u001b[0;32min\u001b[0m \u001b[0mrange\u001b[0m\u001b[0;34m(\u001b[0m\u001b[0mnum_diagrams\u001b[0m\u001b[0;34m)\u001b[0m\u001b[0;34m]\u001b[0m\u001b[0;34m)\u001b[0m\u001b[0;34m.\u001b[0m\u001b[0msqueeze\u001b[0m\u001b[0;34m(\u001b[0m\u001b[0;34m)\u001b[0m\u001b[0;34m\u001b[0m\u001b[0;34m\u001b[0m\u001b[0m\n",
      "\u001b[0;32m<ipython-input-51-4200ddf7d3a9>\u001b[0m in \u001b[0;36m<listcomp>\u001b[0;34m(.0)\u001b[0m\n\u001b[1;32m     17\u001b[0m         \u001b[0;31m####\u001b[0m\u001b[0;34m\u001b[0m\u001b[0;34m\u001b[0m\u001b[0;34m\u001b[0m\u001b[0m\n\u001b[1;32m     18\u001b[0m         \u001b[0minput_embedding\u001b[0m \u001b[0;34m=\u001b[0m \u001b[0mtorch\u001b[0m\u001b[0;34m.\u001b[0m\u001b[0mstack\u001b[0m\u001b[0;34m(\u001b[0m\u001b[0;34m[\u001b[0m\u001b[0mdiagram_embedding\u001b[0m\u001b[0;34m[\u001b[0m\u001b[0mdiagram_index\u001b[0m\u001b[0;34m]\u001b[0m\u001b[0;34m[\u001b[0m\u001b[0minput_indexes\u001b[0m\u001b[0;34m[\u001b[0m\u001b[0mdiagram_index\u001b[0m\u001b[0;34m]\u001b[0m\u001b[0;34m]\u001b[0m \u001b[0;32mfor\u001b[0m \u001b[0mdiagram_index\u001b[0m \u001b[0;32min\u001b[0m \u001b[0mrange\u001b[0m\u001b[0;34m(\u001b[0m\u001b[0mnum_diagrams\u001b[0m\u001b[0;34m)\u001b[0m\u001b[0;34m]\u001b[0m\u001b[0;34m)\u001b[0m\u001b[0;34m\u001b[0m\u001b[0;34m\u001b[0m\u001b[0m\n\u001b[0;32m---> 19\u001b[0;31m         \u001b[0minput_start_pos\u001b[0m \u001b[0;34m=\u001b[0m \u001b[0mtorch\u001b[0m\u001b[0;34m.\u001b[0m\u001b[0mstack\u001b[0m\u001b[0;34m(\u001b[0m\u001b[0;34m[\u001b[0m\u001b[0mstart_pos_base\u001b[0m\u001b[0;34m[\u001b[0m\u001b[0mdiagram_index\u001b[0m\u001b[0;34m]\u001b[0m\u001b[0;34m[\u001b[0m\u001b[0minput_indexes\u001b[0m\u001b[0;34m[\u001b[0m\u001b[0mdiagram_index\u001b[0m\u001b[0;34m]\u001b[0m\u001b[0;34m]\u001b[0m \u001b[0;32mfor\u001b[0m \u001b[0mdiagram_index\u001b[0m \u001b[0;32min\u001b[0m \u001b[0mrange\u001b[0m\u001b[0;34m(\u001b[0m\u001b[0mnum_diagrams\u001b[0m\u001b[0;34m)\u001b[0m\u001b[0;34m]\u001b[0m\u001b[0;34m)\u001b[0m\u001b[0;34m\u001b[0m\u001b[0;34m\u001b[0m\u001b[0m\n\u001b[0m\u001b[1;32m     20\u001b[0m         \u001b[0mtarget_embedding\u001b[0m \u001b[0;34m=\u001b[0m \u001b[0mtorch\u001b[0m\u001b[0;34m.\u001b[0m\u001b[0mstack\u001b[0m\u001b[0;34m(\u001b[0m\u001b[0;34m[\u001b[0m\u001b[0mdiagram_embedding\u001b[0m\u001b[0;34m[\u001b[0m\u001b[0mdiagram_index\u001b[0m\u001b[0;34m]\u001b[0m\u001b[0;34m[\u001b[0m\u001b[0mtarget_indexes\u001b[0m\u001b[0;34m[\u001b[0m\u001b[0mdiagram_index\u001b[0m\u001b[0;34m]\u001b[0m\u001b[0;34m]\u001b[0m \u001b[0;32mfor\u001b[0m \u001b[0mdiagram_index\u001b[0m \u001b[0;32min\u001b[0m \u001b[0mrange\u001b[0m\u001b[0;34m(\u001b[0m\u001b[0mnum_diagrams\u001b[0m\u001b[0;34m)\u001b[0m\u001b[0;34m]\u001b[0m\u001b[0;34m)\u001b[0m\u001b[0;34m.\u001b[0m\u001b[0msqueeze\u001b[0m\u001b[0;34m(\u001b[0m\u001b[0;34m)\u001b[0m\u001b[0;34m\u001b[0m\u001b[0;34m\u001b[0m\u001b[0m\n\u001b[1;32m     21\u001b[0m         \u001b[0mtarget_start_pos\u001b[0m \u001b[0;34m=\u001b[0m \u001b[0mtorch\u001b[0m\u001b[0;34m.\u001b[0m\u001b[0mstack\u001b[0m\u001b[0;34m(\u001b[0m\u001b[0;34m[\u001b[0m\u001b[0mstart_pos_base\u001b[0m\u001b[0;34m[\u001b[0m\u001b[0mdiagram_index\u001b[0m\u001b[0;34m]\u001b[0m\u001b[0;34m[\u001b[0m\u001b[0mtarget_indexes\u001b[0m\u001b[0;34m[\u001b[0m\u001b[0mdiagram_index\u001b[0m\u001b[0;34m]\u001b[0m\u001b[0;34m]\u001b[0m \u001b[0;32mfor\u001b[0m \u001b[0mdiagram_index\u001b[0m \u001b[0;32min\u001b[0m \u001b[0mrange\u001b[0m\u001b[0;34m(\u001b[0m\u001b[0mnum_diagrams\u001b[0m\u001b[0;34m)\u001b[0m\u001b[0;34m]\u001b[0m\u001b[0;34m)\u001b[0m\u001b[0;34m.\u001b[0m\u001b[0msqueeze\u001b[0m\u001b[0;34m(\u001b[0m\u001b[0;34m)\u001b[0m\u001b[0;34m\u001b[0m\u001b[0;34m\u001b[0m\u001b[0m\n",
      "\u001b[0;31mNameError\u001b[0m: name 'start_pos_base' is not defined"
     ]
    }
   ],
   "source": [
    "#creates indexes to gather from\n",
    "# -----------------------#\n",
    "all_input_emb = []\n",
    "all_input_start_pos = []\n",
    "all_seq_len_emb = []\n",
    "#-----------------------#\n",
    "all_target_emb = []\n",
    "all_target_start_pos = []\n",
    "all_n_inputs = []\n",
    "\n",
    "if input_type in [\"random\", \"hybrid\"]:\n",
    "    for i in range(num_predictive_inputs):\n",
    "        input_indexes, target_indexes, n_inputs = get_random_inp_target_pairs(num_strokes_x_diagram_tensor,\n",
    "                                                                              padded_max_num_strokes,\n",
    "                                                                              num_diagrams,\n",
    "                                                                              min_n_stroke, device)\n",
    "        ####\n",
    "        input_embedding = torch.stack([diagram_embedding[diagram_index][input_indexes[diagram_index]] for diagram_index in range(num_diagrams)])\n",
    "        input_start_pos = torch.stack([start_pos_base[diagram_index][input_indexes[diagram_index]] for diagram_index in range(num_diagrams)])\n",
    "        target_embedding = torch.stack([diagram_embedding[diagram_index][target_indexes[diagram_index]] for diagram_index in range(num_diagrams)]).squeeze()\n",
    "        target_start_pos = torch.stack([start_pos_base[diagram_index][target_indexes[diagram_index]] for diagram_index in range(num_diagrams)]).squeeze()\n",
    "        seq_len_embedding = torch.ones([num_diagrams])*n_inputs\n",
    "        #\n",
    "        all_input_emb.append(input_embedding)\n",
    "        all_input_start_pos.append(input_start_pos)\n",
    "        all_target_emb.append(target_embedding)\n",
    "        all_target_start_pos.append(target_start_pos)\n",
    "        all_seq_len_emb.append(seq_len_embedding)\n",
    "        all_n_inputs.append(n_inputs)"
   ]
  },
  {
   "cell_type": "code",
   "execution_count": 52,
   "metadata": {},
   "outputs": [
    {
     "ename": "NameError",
     "evalue": "name 'start_pos_base' is not defined",
     "output_type": "error",
     "traceback": [
      "\u001b[0;31m---------------------------------------------------------------------------\u001b[0m",
      "\u001b[0;31mNameError\u001b[0m                                 Traceback (most recent call last)",
      "\u001b[0;32m<ipython-input-52-52495fea16cd>\u001b[0m in \u001b[0;36m<module>\u001b[0;34m\u001b[0m\n\u001b[1;32m      7\u001b[0m         \u001b[0;31m####\u001b[0m\u001b[0;34m\u001b[0m\u001b[0;34m\u001b[0m\u001b[0;34m\u001b[0m\u001b[0m\n\u001b[1;32m      8\u001b[0m         \u001b[0minput_embedding\u001b[0m \u001b[0;34m=\u001b[0m \u001b[0mtorch\u001b[0m\u001b[0;34m.\u001b[0m\u001b[0mstack\u001b[0m\u001b[0;34m(\u001b[0m\u001b[0;34m[\u001b[0m\u001b[0mdiagram_embedding\u001b[0m\u001b[0;34m[\u001b[0m\u001b[0mdiagram_index\u001b[0m\u001b[0;34m]\u001b[0m\u001b[0;34m[\u001b[0m\u001b[0minput_indexes\u001b[0m\u001b[0;34m[\u001b[0m\u001b[0mdiagram_index\u001b[0m\u001b[0;34m]\u001b[0m\u001b[0;34m]\u001b[0m \u001b[0;32mfor\u001b[0m \u001b[0mdiagram_index\u001b[0m \u001b[0;32min\u001b[0m \u001b[0mrange\u001b[0m\u001b[0;34m(\u001b[0m\u001b[0mnum_diagrams\u001b[0m\u001b[0;34m)\u001b[0m\u001b[0;34m]\u001b[0m\u001b[0;34m)\u001b[0m\u001b[0;34m\u001b[0m\u001b[0;34m\u001b[0m\u001b[0m\n\u001b[0;32m----> 9\u001b[0;31m         \u001b[0minput_start_pos\u001b[0m \u001b[0;34m=\u001b[0m \u001b[0mtorch\u001b[0m\u001b[0;34m.\u001b[0m\u001b[0mstack\u001b[0m\u001b[0;34m(\u001b[0m\u001b[0;34m[\u001b[0m\u001b[0mstart_pos_base\u001b[0m\u001b[0;34m[\u001b[0m\u001b[0mdiagram_index\u001b[0m\u001b[0;34m]\u001b[0m\u001b[0;34m[\u001b[0m\u001b[0minput_indexes\u001b[0m\u001b[0;34m[\u001b[0m\u001b[0mdiagram_index\u001b[0m\u001b[0;34m]\u001b[0m\u001b[0;34m]\u001b[0m \u001b[0;32mfor\u001b[0m \u001b[0mdiagram_index\u001b[0m \u001b[0;32min\u001b[0m \u001b[0mrange\u001b[0m\u001b[0;34m(\u001b[0m\u001b[0mnum_diagrams\u001b[0m\u001b[0;34m)\u001b[0m\u001b[0;34m]\u001b[0m\u001b[0;34m)\u001b[0m\u001b[0;34m\u001b[0m\u001b[0;34m\u001b[0m\u001b[0m\n\u001b[0m\u001b[1;32m     10\u001b[0m         \u001b[0mtarget_embedding\u001b[0m \u001b[0;34m=\u001b[0m \u001b[0mtorch\u001b[0m\u001b[0;34m.\u001b[0m\u001b[0mstack\u001b[0m\u001b[0;34m(\u001b[0m\u001b[0;34m[\u001b[0m\u001b[0mdiagram_embedding\u001b[0m\u001b[0;34m[\u001b[0m\u001b[0mdiagram_index\u001b[0m\u001b[0;34m]\u001b[0m\u001b[0;34m[\u001b[0m\u001b[0mtarget_indexes\u001b[0m\u001b[0;34m[\u001b[0m\u001b[0mdiagram_index\u001b[0m\u001b[0;34m]\u001b[0m\u001b[0;34m]\u001b[0m \u001b[0;32mfor\u001b[0m \u001b[0mdiagram_index\u001b[0m \u001b[0;32min\u001b[0m \u001b[0mrange\u001b[0m\u001b[0;34m(\u001b[0m\u001b[0mnum_diagrams\u001b[0m\u001b[0;34m)\u001b[0m\u001b[0;34m]\u001b[0m\u001b[0;34m)\u001b[0m\u001b[0;34m.\u001b[0m\u001b[0msqueeze\u001b[0m\u001b[0;34m(\u001b[0m\u001b[0;34m)\u001b[0m\u001b[0;34m\u001b[0m\u001b[0;34m\u001b[0m\u001b[0m\n\u001b[1;32m     11\u001b[0m         \u001b[0mtarget_start_pos\u001b[0m \u001b[0;34m=\u001b[0m \u001b[0mtorch\u001b[0m\u001b[0;34m.\u001b[0m\u001b[0mstack\u001b[0m\u001b[0;34m(\u001b[0m\u001b[0;34m[\u001b[0m\u001b[0mstart_pos_base\u001b[0m\u001b[0;34m[\u001b[0m\u001b[0mdiagram_index\u001b[0m\u001b[0;34m]\u001b[0m\u001b[0;34m[\u001b[0m\u001b[0mtarget_indexes\u001b[0m\u001b[0;34m[\u001b[0m\u001b[0mdiagram_index\u001b[0m\u001b[0;34m]\u001b[0m\u001b[0;34m]\u001b[0m \u001b[0;32mfor\u001b[0m \u001b[0mdiagram_index\u001b[0m \u001b[0;32min\u001b[0m \u001b[0mrange\u001b[0m\u001b[0;34m(\u001b[0m\u001b[0mnum_diagrams\u001b[0m\u001b[0;34m)\u001b[0m\u001b[0;34m]\u001b[0m\u001b[0;34m)\u001b[0m\u001b[0;34m.\u001b[0m\u001b[0msqueeze\u001b[0m\u001b[0;34m(\u001b[0m\u001b[0;34m)\u001b[0m\u001b[0;34m\u001b[0m\u001b[0;34m\u001b[0m\u001b[0m\n",
      "\u001b[0;32m<ipython-input-52-52495fea16cd>\u001b[0m in \u001b[0;36m<listcomp>\u001b[0;34m(.0)\u001b[0m\n\u001b[1;32m      7\u001b[0m         \u001b[0;31m####\u001b[0m\u001b[0;34m\u001b[0m\u001b[0;34m\u001b[0m\u001b[0;34m\u001b[0m\u001b[0m\n\u001b[1;32m      8\u001b[0m         \u001b[0minput_embedding\u001b[0m \u001b[0;34m=\u001b[0m \u001b[0mtorch\u001b[0m\u001b[0;34m.\u001b[0m\u001b[0mstack\u001b[0m\u001b[0;34m(\u001b[0m\u001b[0;34m[\u001b[0m\u001b[0mdiagram_embedding\u001b[0m\u001b[0;34m[\u001b[0m\u001b[0mdiagram_index\u001b[0m\u001b[0;34m]\u001b[0m\u001b[0;34m[\u001b[0m\u001b[0minput_indexes\u001b[0m\u001b[0;34m[\u001b[0m\u001b[0mdiagram_index\u001b[0m\u001b[0;34m]\u001b[0m\u001b[0;34m]\u001b[0m \u001b[0;32mfor\u001b[0m \u001b[0mdiagram_index\u001b[0m \u001b[0;32min\u001b[0m \u001b[0mrange\u001b[0m\u001b[0;34m(\u001b[0m\u001b[0mnum_diagrams\u001b[0m\u001b[0;34m)\u001b[0m\u001b[0;34m]\u001b[0m\u001b[0;34m)\u001b[0m\u001b[0;34m\u001b[0m\u001b[0;34m\u001b[0m\u001b[0m\n\u001b[0;32m----> 9\u001b[0;31m         \u001b[0minput_start_pos\u001b[0m \u001b[0;34m=\u001b[0m \u001b[0mtorch\u001b[0m\u001b[0;34m.\u001b[0m\u001b[0mstack\u001b[0m\u001b[0;34m(\u001b[0m\u001b[0;34m[\u001b[0m\u001b[0mstart_pos_base\u001b[0m\u001b[0;34m[\u001b[0m\u001b[0mdiagram_index\u001b[0m\u001b[0;34m]\u001b[0m\u001b[0;34m[\u001b[0m\u001b[0minput_indexes\u001b[0m\u001b[0;34m[\u001b[0m\u001b[0mdiagram_index\u001b[0m\u001b[0;34m]\u001b[0m\u001b[0;34m]\u001b[0m \u001b[0;32mfor\u001b[0m \u001b[0mdiagram_index\u001b[0m \u001b[0;32min\u001b[0m \u001b[0mrange\u001b[0m\u001b[0;34m(\u001b[0m\u001b[0mnum_diagrams\u001b[0m\u001b[0;34m)\u001b[0m\u001b[0;34m]\u001b[0m\u001b[0;34m)\u001b[0m\u001b[0;34m\u001b[0m\u001b[0;34m\u001b[0m\u001b[0m\n\u001b[0m\u001b[1;32m     10\u001b[0m         \u001b[0mtarget_embedding\u001b[0m \u001b[0;34m=\u001b[0m \u001b[0mtorch\u001b[0m\u001b[0;34m.\u001b[0m\u001b[0mstack\u001b[0m\u001b[0;34m(\u001b[0m\u001b[0;34m[\u001b[0m\u001b[0mdiagram_embedding\u001b[0m\u001b[0;34m[\u001b[0m\u001b[0mdiagram_index\u001b[0m\u001b[0;34m]\u001b[0m\u001b[0;34m[\u001b[0m\u001b[0mtarget_indexes\u001b[0m\u001b[0;34m[\u001b[0m\u001b[0mdiagram_index\u001b[0m\u001b[0;34m]\u001b[0m\u001b[0;34m]\u001b[0m \u001b[0;32mfor\u001b[0m \u001b[0mdiagram_index\u001b[0m \u001b[0;32min\u001b[0m \u001b[0mrange\u001b[0m\u001b[0;34m(\u001b[0m\u001b[0mnum_diagrams\u001b[0m\u001b[0;34m)\u001b[0m\u001b[0;34m]\u001b[0m\u001b[0;34m)\u001b[0m\u001b[0;34m.\u001b[0m\u001b[0msqueeze\u001b[0m\u001b[0;34m(\u001b[0m\u001b[0;34m)\u001b[0m\u001b[0;34m\u001b[0m\u001b[0;34m\u001b[0m\u001b[0m\n\u001b[1;32m     11\u001b[0m         \u001b[0mtarget_start_pos\u001b[0m \u001b[0;34m=\u001b[0m \u001b[0mtorch\u001b[0m\u001b[0;34m.\u001b[0m\u001b[0mstack\u001b[0m\u001b[0;34m(\u001b[0m\u001b[0;34m[\u001b[0m\u001b[0mstart_pos_base\u001b[0m\u001b[0;34m[\u001b[0m\u001b[0mdiagram_index\u001b[0m\u001b[0;34m]\u001b[0m\u001b[0;34m[\u001b[0m\u001b[0mtarget_indexes\u001b[0m\u001b[0;34m[\u001b[0m\u001b[0mdiagram_index\u001b[0m\u001b[0;34m]\u001b[0m\u001b[0;34m]\u001b[0m \u001b[0;32mfor\u001b[0m \u001b[0mdiagram_index\u001b[0m \u001b[0;32min\u001b[0m \u001b[0mrange\u001b[0m\u001b[0;34m(\u001b[0m\u001b[0mnum_diagrams\u001b[0m\u001b[0;34m)\u001b[0m\u001b[0;34m]\u001b[0m\u001b[0;34m)\u001b[0m\u001b[0;34m.\u001b[0m\u001b[0msqueeze\u001b[0m\u001b[0;34m(\u001b[0m\u001b[0;34m)\u001b[0m\u001b[0;34m\u001b[0m\u001b[0;34m\u001b[0m\u001b[0m\n",
      "\u001b[0;31mNameError\u001b[0m: name 'start_pos_base' is not defined"
     ]
    }
   ],
   "source": [
    "if input_type in [\"order\", \"hybrid\"]:\n",
    "    for i in range(num_predictive_inputs):\n",
    "        input_indexes, target_indexes, n_inputs = get_ordered_inp_target_pairs(num_strokes_x_diagram_tensor,\n",
    "                                                                               padded_max_num_strokes,\n",
    "                                                                               num_diagrams,\n",
    "                                                                               min_n_stroke, device)\n",
    "        ####\n",
    "        input_embedding = torch.stack([diagram_embedding[diagram_index][input_indexes[diagram_index]] for diagram_index in range(num_diagrams)])\n",
    "        input_start_pos = torch.stack([start_pos_base[diagram_index][input_indexes[diagram_index]] for diagram_index in range(num_diagrams)])\n",
    "        target_embedding = torch.stack([diagram_embedding[diagram_index][target_indexes[diagram_index]] for diagram_index in range(num_diagrams)]).squeeze()\n",
    "        target_start_pos = torch.stack([start_pos_base[diagram_index][target_indexes[diagram_index]] for diagram_index in range(num_diagrams)]).squeeze()\n",
    "        seq_len_embedding = torch.ones([num_diagrams])*n_inputs\n",
    "        #\n",
    "        all_input_emb.append(input_embedding)\n",
    "        all_input_start_pos.append(input_start_pos)\n",
    "        all_target_emb.append(target_embedding)\n",
    "        all_target_start_pos.append(target_start_pos)\n",
    "        all_seq_len_emb.append(seq_len_embedding)\n",
    "        all_n_inputs.append(n_inputs)"
   ]
  },
  {
   "cell_type": "code",
   "execution_count": 53,
   "metadata": {},
   "outputs": [
    {
     "ename": "RuntimeError",
     "evalue": "stack expects a non-empty TensorList",
     "output_type": "error",
     "traceback": [
      "\u001b[0;31m---------------------------------------------------------------------------\u001b[0m",
      "\u001b[0;31mRuntimeError\u001b[0m                              Traceback (most recent call last)",
      "\u001b[0;32m<ipython-input-53-159689d3977e>\u001b[0m in \u001b[0;36m<module>\u001b[0;34m\u001b[0m\n\u001b[0;32m----> 1\u001b[0;31m \u001b[0msampled_seq_len_emb\u001b[0m \u001b[0;34m=\u001b[0m \u001b[0mtorch\u001b[0m\u001b[0;34m.\u001b[0m\u001b[0mstack\u001b[0m\u001b[0;34m(\u001b[0m\u001b[0mall_seq_len_emb\u001b[0m\u001b[0;34m)\u001b[0m\u001b[0;34m\u001b[0m\u001b[0;34m\u001b[0m\u001b[0m\n\u001b[0m\u001b[1;32m      2\u001b[0m \u001b[0msampled_target_start_pos\u001b[0m \u001b[0;34m=\u001b[0m \u001b[0mtorch\u001b[0m\u001b[0;34m.\u001b[0m\u001b[0mstack\u001b[0m\u001b[0;34m(\u001b[0m\u001b[0mall_target_start_pos\u001b[0m\u001b[0;34m)\u001b[0m\u001b[0;34m\u001b[0m\u001b[0;34m\u001b[0m\u001b[0m\n\u001b[1;32m      3\u001b[0m \u001b[0msampled_target_emb\u001b[0m \u001b[0;34m=\u001b[0m \u001b[0mtorch\u001b[0m\u001b[0;34m.\u001b[0m\u001b[0mstack\u001b[0m\u001b[0;34m(\u001b[0m\u001b[0mall_target_emb\u001b[0m\u001b[0;34m)\u001b[0m\u001b[0;34m\u001b[0m\u001b[0;34m\u001b[0m\u001b[0m\n",
      "\u001b[0;31mRuntimeError\u001b[0m: stack expects a non-empty TensorList"
     ]
    }
   ],
   "source": [
    "sampled_seq_len_emb = torch.stack(all_seq_len_emb)\n",
    "sampled_target_start_pos = torch.stack(all_target_start_pos)\n",
    "sampled_target_emb = torch.stack(all_target_emb)"
   ]
  },
  {
   "cell_type": "code",
   "execution_count": 84,
   "metadata": {},
   "outputs": [
    {
     "data": {
      "text/plain": [
       "torch.Size([32, 6, 2])"
      ]
     },
     "execution_count": 84,
     "metadata": {},
     "output_type": "execute_result"
    }
   ],
   "source": [
    "sampled_seq_len_emb.shape\n",
    "sampled_target_start_pos.shape"
   ]
  },
  {
   "cell_type": "code",
   "execution_count": 85,
   "metadata": {},
   "outputs": [],
   "source": [
    "sampled_input_start_pos = torch.zeros(32, num_diagrams, max(all_n_inputs),2)\n",
    "for i_sample, sampled_data in enumerate(all_input_start_pos):\n",
    "    for i_diagram, content in enumerate(sampled_data):\n",
    "        sampled_input_start_pos[i_sample,i_diagram,:int(all_seq_len_emb[i_sample][i_diagram]),:] = content\n",
    "        \n",
    "sampled_input_emb = torch.zeros(32, num_diagrams, max(all_n_inputs),8)\n",
    "for i_sample, sampled_data in enumerate(all_input_emb):\n",
    "    for i_diagram, content in enumerate(sampled_data):\n",
    "        sampled_input_emb[i_sample,i_diagram,:int(all_seq_len_emb[i_sample][i_diagram]),:] = content"
   ]
  },
  {
   "cell_type": "code",
   "execution_count": 86,
   "metadata": {},
   "outputs": [],
   "source": [
    "sampled_input_start_pos = sampled_input_start_pos.reshape(-1, sampled_input_start_pos.size(-2), sampled_input_start_pos.size(-1))\n",
    "sampled_input_emb = sampled_input_emb.reshape(-1, sampled_input_emb.size(-2), sampled_input_emb.size(-1))\n",
    "sampled_seq_len_emb = sampled_seq_len_emb.reshape(-1)\n",
    "sampled_target_start_pos = sampled_target_start_pos.reshape(-1, sampled_target_start_pos.size(-1))\n",
    "sampled_target_emb = sampled_target_emb.reshape(-1, sampled_target_emb.size(-1))"
   ]
  },
  {
   "cell_type": "code",
   "execution_count": 87,
   "metadata": {},
   "outputs": [
    {
     "data": {
      "text/plain": [
       "(torch.Size([192, 12, 2]),\n",
       " torch.Size([192, 12, 8]),\n",
       " torch.Size([192]),\n",
       " torch.Size([192, 2]),\n",
       " torch.Size([192, 8]))"
      ]
     },
     "execution_count": 87,
     "metadata": {},
     "output_type": "execute_result"
    }
   ],
   "source": [
    "sampled_input_start_pos.shape, sampled_input_emb.shape,sampled_seq_len_emb.shape,sampled_target_start_pos.shape,sampled_target_emb.shape"
   ]
  },
  {
   "cell_type": "code",
   "execution_count": null,
   "metadata": {},
   "outputs": [],
   "source": []
  },
  {
   "cell_type": "code",
   "execution_count": null,
   "metadata": {},
   "outputs": [],
   "source": []
  },
  {
   "cell_type": "code",
   "execution_count": null,
   "metadata": {},
   "outputs": [],
   "source": []
  },
  {
   "cell_type": "code",
   "execution_count": 37,
   "metadata": {},
   "outputs": [],
   "source": [
    "expected_strokes = encoder_inputs\n",
    "expected_start_coord = start_coord\n",
    "pred_embedding = encoder_out\n",
    "recon_start_coord = start_coord\n",
    "strok_len_inputs = strok_len_inputs\n",
    "#decoder= cose.decoder\n",
    "skip_rows = 0"
   ]
  },
  {
   "cell_type": "code",
   "execution_count": 38,
   "metadata": {},
   "outputs": [
    {
     "name": "stderr",
     "output_type": "stream",
     "text": [
      "/home/ajimenez/CoSE-pytorch/models/gmm.py:42: UserWarning: Implicit dimension choice for softmax has been deprecated. Change the call to include dim=X as an argument.\n",
      "  out_pi = torch.nn.functional.softmax(out_pi)\n"
     ]
    }
   ],
   "source": [
    "loss_ae = 0\n",
    "mean_chamfer_dist = 0\n",
    "q = 0\n",
    "chamferDist = ChamferDistance()\n",
    "total_chamfer_dist = []\n",
    "recons_strokes = []\n",
    "recon_start_pos = []\n",
    "strok_len_inp = []\n",
    "for i, stroke_embedding in enumerate(pred_embedding):\n",
    "    if strok_len_inputs[i] > 0 and strok_len_inputs[i] < 100:\n",
    "        temp_linspace = torch.linspace(0, strok_len_inputs[i]-1, steps=strok_len_inputs[i]).to(device)\n",
    "        t_inputs = (temp_linspace+1)/28\n",
    "        t_inputs.shape\n",
    "        #sys.exit(0)\n",
    "        t_inp = t_inputs.reshape(1,-1)\n",
    "        stroke_emb = stroke_embedding.reshape(1,-1).repeat(t_inp.size(-1), 1)\n",
    "        t_inp = t_inp.reshape(-1,1)\n",
    "        recons_input = torch.cat([stroke_emb, t_inp], dim = 1)\n",
    "        recons_stroke, ae_mu, ae_sigma, ae_pi= cose.decoder(recons_input)\n",
    "        orig_stroke_ = expected_strokes[i:i+1,:strok_len_inputs[i],:2]\n",
    "        orig_pos = expected_start_coord[i:i+1,:]\n",
    "        recon_stroke_ = recons_stroke.reshape(-1, strok_len_inputs[i],2)\n",
    "        recon_pos = recon_start_coord[i:i+1,:]\n",
    "        break\n",
    "        #orig_stroke_ = torch.from_numpy(orig_stroke_.cpu().detach().numpy()*std_channel + mean_channel).to(device) + orig_pos\n",
    "        #recon_stroke_ = torch.from_numpy(recon_stroke_.cpu().detach().numpy()*std_channel + mean_channel).to(device) + recon_pos\n",
    "        recons_strokes.append(recon_stroke_.squeeze(dim = 0))\n",
    "        recon_start_pos.append(recon_pos.squeeze(dim = 0))\n",
    "        strok_len_inp.append(strok_len_inputs[i].squeeze(dim = 0))\n",
    "        if i >= skip_rows:\n",
    "            loss_ae += -1*(logli_gmm_logsumexp(orig_stroke_.detach(), ae_mu.detach(), ae_sigma.detach(), ae_pi.detach()).mean().item())\n",
    "            #print(loss_ae)\n",
    "            orig_stroke_ = torch.from_numpy(orig_stroke_.cpu().detach().numpy()*std_channel + mean_channel).to(device) + orig_pos\n",
    "            recon_stroke_ = torch.from_numpy(recon_stroke_.cpu().detach().numpy()*std_channel + mean_channel).to(device) + recon_pos\n",
    "            \n",
    "            total_chamfer_dist.append(chamferDist(orig_stroke_, recon_stroke_).item())\n",
    "            #if total_chamfer_dist\n",
    "            #print(total_chamfer_dist)\n",
    "            q+=1\n",
    "        #break\n",
    "    #else:\n",
    "    #    print(f\"skipping {i} iteration\")\n",
    "loss_ae = loss_ae/q\n",
    "mean_chamfer_dist = np.mean(total_chamfer_dist)"
   ]
  },
  {
   "cell_type": "code",
   "execution_count": 39,
   "metadata": {},
   "outputs": [
    {
     "data": {
      "text/plain": [
       "1887.1987331119076"
      ]
     },
     "execution_count": 39,
     "metadata": {},
     "output_type": "execute_result"
    }
   ],
   "source": [
    "loss_ae"
   ]
  },
  {
   "cell_type": "code",
   "execution_count": 40,
   "metadata": {},
   "outputs": [
    {
     "data": {
      "text/plain": [
       "0.02731271728033969"
      ]
     },
     "execution_count": 40,
     "metadata": {},
     "output_type": "execute_result"
    }
   ],
   "source": [
    "mean_chamfer_dist"
   ]
  },
  {
   "cell_type": "code",
   "execution_count": 42,
   "metadata": {},
   "outputs": [],
   "source": [
    "%matplotlib inline"
   ]
  },
  {
   "cell_type": "code",
   "execution_count": 51,
   "metadata": {},
   "outputs": [
    {
     "data": {
      "image/png": "[encoded data removed]",
      "text/plain": [
       "<matplotlib.figure.Figure at 0x7fa700039dd8>"
      ]
     },
     "metadata": {
      "needs_background": "light"
     },
     "output_type": "display_data"
    }
   ],
   "source": [
    "npfig, _, _, _  = transform_strokes_to_image(drawing=orig_stroke_.cpu().detach(), seq_len_drawing=[strok_len_inputs[i].cpu().detach()], start_coord_drawing=orig_pos.cpu().detach(), mean_channel=mean_channel,\n",
    "std_channel=std_channel, num_strokes=None,output_path=\"./\", output_file=\"pinha\", square_figure=True, save=True, alpha=0.6, highlight_start=True)\n"
   ]
  },
  {
   "cell_type": "code",
   "execution_count": 93,
   "metadata": {},
   "outputs": [
    {
     "data": {
      "image/png": "[encoded data removed]",
      "text/plain": [
       "<matplotlib.figure.Figure at 0x7f92503a82b0>"
      ]
     },
     "metadata": {
      "needs_background": "light"
     },
     "output_type": "display_data"
    }
   ],
   "source": [
    "npfig2, _, _, _ = transform_strokes_to_image(drawing=recon_stroke_.cpu().detach(), seq_len_drawing=[strok_len_inputs[i].cpu().detach()], start_coord_drawing=recon_pos.cpu().detach(), mean_channel=mean_channel,\n",
    "                                                     std_channel=std_channel, num_strokes=None, output_path=\"./\", output_file=\"pinha\", square_figure=True, save=True, alpha=0.6, highlight_start=True)"
   ]
  },
  {
   "cell_type": "code",
   "execution_count": 83,
   "metadata": {},
   "outputs": [
    {
     "data": {
      "text/plain": [
       "<matplotlib.image.AxesImage at 0x7f9250529278>"
      ]
     },
     "execution_count": 83,
     "metadata": {},
     "output_type": "execute_result"
    },
    {
     "data": {
      "image/png": "[encoded data removed]",
      "text/plain": [
       "<matplotlib.figure.Figure at 0x7f925339f630>"
      ]
     },
     "metadata": {
      "needs_background": "light"
     },
     "output_type": "display_data"
    }
   ],
   "source": [
    "# plt.figure(figsize = (10,10))\n",
    "plt.imshow(npfig)\n",
    "plt.imshow(npfig2)"
   ]
  },
  {
   "cell_type": "code",
   "execution_count": 46,
   "metadata": {},
   "outputs": [],
   "source": [
    "from chamferdist import ChamferDistance\n",
    "def get_reconstruction_metrics(expected_strokes, expected_start_coord, pred_embedding, recon_start_coord, strok_len_inputs, decoder, mean_channel, std_channel,device, skip_rows = 0):\n",
    "    loss_ae = 0\n",
    "    mean_chamfer_dist = 0\n",
    "    q = 0\n",
    "    chamferDist = ChamferDistance()\n",
    "    total_chamfer_dist = 0\n",
    "    recons_strokes = []\n",
    "    for i, stroke_embedding in enumerate(pred_embedding):\n",
    "        if strok_len_inputs[i] > 0:\n",
    "            t_inputs = torch.linspace(0, 1, steps=strok_len_inputs[i]).to(device)\n",
    "            t_inp = t_inputs.reshape(1,-1)\n",
    "            stroke_emb = stroke_embedding.reshape(1,-1).repeat(t_inp.size(-1), 1)\n",
    "            t_inp = t_inp.reshape(-1,1)\n",
    "            recons_input = torch.cat([stroke_emb, t_inp], dim = 1)\n",
    "            recons_stroke, ae_mu, ae_sigma, ae_pi= decoder(recons_input)\n",
    "            orig_stroke_ = expected_strokes[i:i+1,:strok_len_inputs[i],:2]\n",
    "            orig_pos = expected_start_coord[i:i+1,:]\n",
    "            recon_stroke_ = recons_stroke.reshape(-1, strok_len_inputs[i],2)\n",
    "            recon_pos = recon_start_coord[i:i+1,:]\n",
    "            if i >= skip_rows:\n",
    "                recons_strokes.append(recon_stroke_.squeeze(dim = 0))\n",
    "                loss_ae += -1*(logli_gmm_logsumexp(orig_stroke_, ae_mu, ae_sigma, ae_pi).mean())\n",
    "                orig_stroke_ = torch.from_numpy(orig_stroke_.cpu().detach().numpy()*std_channel + mean_channel).to(device) + orig_pos\n",
    "                recon_stroke_ = torch.from_numpy(recon_stroke_.cpu().detach().numpy()*std_channel + mean_channel).to(device) + recon_pos\n",
    "                total_chamfer_dist += chamferDist(orig_stroke_, recon_stroke_)\n",
    "                q+=1\n",
    "            else:\n",
    "                recons_strokes.append(orig_stroke_.squeeze(dim = 0))\n",
    "    loss_ae = loss_ae/q\n",
    "    mean_chamfer_dist = total_chamfer_dist/q\n",
    "    return loss_ae, mean_chamfer_dist, recons_strokes"
   ]
  },
  {
   "cell_type": "code",
   "execution_count": 47,
   "metadata": {},
   "outputs": [],
   "source": [
    "loss_ae, chamf_dist,_ = get_reconstruction_metrics(encoder_inputs, start_coord ,encoder_out,start_coord, strok_len_inputs, cose.decoder, mean_channel, std_channel, device)"
   ]
  },
  {
   "cell_type": "code",
   "execution_count": 48,
   "metadata": {},
   "outputs": [
    {
     "data": {
      "text/plain": [
       "3653.337890625"
      ]
     },
     "execution_count": 48,
     "metadata": {},
     "output_type": "execute_result"
    }
   ],
   "source": [
    "loss_ae.item()"
   ]
  },
  {
   "cell_type": "code",
   "execution_count": 49,
   "metadata": {},
   "outputs": [
    {
     "data": {
      "text/plain": [
       "0.011542114757345434"
      ]
     },
     "execution_count": 49,
     "metadata": {},
     "output_type": "execute_result"
    }
   ],
   "source": [
    "chamf_dist.item()"
   ]
  },
  {
   "cell_type": "code",
   "execution_count": 42,
   "metadata": {},
   "outputs": [
    {
     "data": {
      "text/plain": [
       "tensor(0.0115, device='cuda:0', dtype=torch.float64)"
      ]
     },
     "execution_count": 42,
     "metadata": {},
     "output_type": "execute_result"
    }
   ],
   "source": [
    "chamf_dist"
   ]
  },
  {
   "cell_type": "code",
   "execution_count": 43,
   "metadata": {},
   "outputs": [
    {
     "data": {
      "text/plain": [
       "tensor(0.0115, device='cuda:0', dtype=torch.float64)"
      ]
     },
     "execution_count": 43,
     "metadata": {},
     "output_type": "execute_result"
    }
   ],
   "source": [
    "chamf_dist"
   ]
  },
  {
   "cell_type": "code",
   "execution_count": 44,
   "metadata": {},
   "outputs": [],
   "source": [
    "diagram_embedding, padded_max_num_strokes, _, num_diagrams = reshape_stroke2diagram(encoder_out,num_strokes)\n",
    "start_pos_base = start_coord.reshape(num_diagrams,padded_max_num_strokes,2)"
   ]
  },
  {
   "cell_type": "code",
   "execution_count": 45,
   "metadata": {},
   "outputs": [],
   "source": [
    "use_autoregressive = False"
   ]
  },
  {
   "cell_type": "code",
   "execution_count": 48,
   "metadata": {},
   "outputs": [],
   "source": [
    "def get_prediction_metrics(encoder_inputs, strok_len_inputs, diagram_embedding, start_pos_base, num_strokes, models, device, mean_channel, std_channel, use_autoregressive = False):\n",
    "    decoder, position_predictive_model, embedding_predictive_model = models\n",
    "    # Num_strokes_iniciales\n",
    "    n_strokes_init = 2\n",
    "    #for every diagram\n",
    "    loss_pos_pred =  []\n",
    "    loss_emb_pred = []\n",
    "    pred_cd = []\n",
    "    reconstructed_diagrams_strokes = []\n",
    "    reconstructed_diagrams_start_pos = []\n",
    "    for index_diagram in range(diagram_embedding.size(0)):\n",
    "        #diagram inputs\n",
    "        num_strokes_one = num_strokes[index_diagram]\n",
    "        one_diagram = diagram_embedding[index_diagram].unsqueeze(dim =0)\n",
    "        start_pos_one = start_pos_base[index_diagram].unsqueeze(dim = 0)\n",
    "        expected_output_one = encoder_inputs.reshape(num_diagrams,-1,encoder_inputs.size(1), encoder_inputs.size(2))[index_diagram,:num_strokes_one,:,:]\n",
    "        stroke_len_one = strok_len_inputs.reshape(num_diagrams,-1)[index_diagram,:]\n",
    "        #starting config\n",
    "        inp_diagram_cum = one_diagram[:,:n_strokes_init,:]\n",
    "        inp_start_pos_cum = start_pos_one[:,:n_strokes_init,:]\n",
    "        #iterating to predict next stroke every time\n",
    "        for j in range(n_strokes_init, num_strokes[index_diagram]):\n",
    "            #inputs\n",
    "            if not use_autoregressive:\n",
    "                inp_diagram = one_diagram[:,:j,:]\n",
    "                inp_start_pos = start_pos_one[:,:j,:]\n",
    "            else:\n",
    "                inp_diagram = inp_diagram_cum[:,:j,:]\n",
    "                inp_start_pos = inp_start_pos_cum[:,:j,:]\n",
    "            #targets\n",
    "            target_diagram = one_diagram[:,j,:]\n",
    "            target_start_pos = start_pos_one[:,j,:]\n",
    "            #predictions\n",
    "            inp_pos_model = torch.cat([inp_diagram, inp_start_pos], dim = 2)\n",
    "            inp_num_strokes = torch.tensor([inp_diagram.size(1)])\n",
    "            #pos prediction\n",
    "            pos_pred_mu, pos_pred_sigma, pos_pred_pi = cose.position_predictive_model(inp_pos_model, inp_num_strokes, None)\n",
    "            pos_pred = cose.position_predictive_model.draw_sample(pos_pred_mu, pos_pred_sigma, pos_pred_pi)  \n",
    "            #next embedding prediction\n",
    "#             print(inp_diagram.shape)\n",
    "#             print(inp_start_pos.shape)\n",
    "#             print(pos_pred.shape)\n",
    "#             print(target_start_pos.shape)\n",
    "            #break\n",
    "            pred_model_inputs = torch.cat([inp_diagram, inp_start_pos, target_start_pos.unsqueeze(dim = 1).repeat(1, inp_num_strokes, 1)], dim = 2)\n",
    "            #pred_model_inputs = torch.cat([inp_diagram, inp_start_pos, pos_pred.unsqueeze(dim = 1).repeat(1, inp_num_strokes, 1)], dim = 2)\n",
    "            emb_pred_mu, emb_pred_sigma, emb_pred_pi = cose.embedding_predictive_model(pred_model_inputs, inp_num_strokes, None)\n",
    "            emb_pred = cose.embedding_predictive_model.draw_sample(emb_pred_mu, emb_pred_sigma, emb_pred_pi)\n",
    "            #losses\n",
    "            #loss_pos_pred += -1*(logli_gmm_logsumexp(inp_start_pos, pos_pred_mu, pos_pred_sigma, pos_pred_pi).mean())\n",
    "            #loss_emb_pred += -1*(logli_gmm_logsumexp(target_diagram, emb_pred_mu, emb_pred_sigma, emb_pred_pi).mean())\n",
    "            #print(-1*(logli_gmm_logsumexp(inp_start_pos, pos_pred_mu, pos_pred_sigma, pos_pred_pi).mean()))\n",
    "            loss_pos_pred.append(-1*(logli_gmm_logsumexp(target_start_pos, pos_pred_mu, pos_pred_sigma, pos_pred_pi).mean()).item())\n",
    "            loss_emb_pred.append(-1*(logli_gmm_logsumexp(target_diagram, emb_pred_mu, emb_pred_sigma, emb_pred_pi).mean()).item())\n",
    "            #updating diagrams for autoregressiveness\n",
    "            inp_diagram_cum = torch.cat([inp_diagram_cum, emb_pred.unsqueeze(dim = 1)], dim = 1)\n",
    "            inp_start_pos_cum = torch.cat([inp_start_pos_cum, pos_pred.unsqueeze(dim = 1)], dim = 1)\n",
    "        #print(stroke_len_one)\n",
    "        _, chamf_dist, recon_strokes = get_reconstruction_metrics(expected_strokes= expected_output_one,\n",
    "                                                                  expected_start_coord=start_pos_one.squeeze(dim=0)[:num_strokes[index_diagram]],\n",
    "                                                                  pred_embedding=inp_diagram_cum.squeeze(dim = 0),\n",
    "                                                                  recon_start_coord= inp_start_pos_cum.squeeze(dim=0),\n",
    "                                                                  strok_len_inputs=stroke_len_one,\n",
    "                                                                  decoder= decoder,\n",
    "                                                                  mean_channel = mean_channel,\n",
    "                                                                  std_channel = std_channel,\n",
    "                                                                  device = device,\n",
    "                                                                  skip_rows = n_strokes_init)\n",
    "        #print(expected_output_one[0][:5,:])\n",
    "        #print(recon_strokes[0][:5,:])\n",
    "        pred_cd.append(chamf_dist.item())\n",
    "        reconstructed_diagrams_strokes.append(recon_strokes)\n",
    "        reconstructed_diagrams_start_pos.append(inp_start_pos_cum)\n",
    "        \n",
    "    total_emb_loss = np.array(loss_emb_pred).mean()\n",
    "    total_pos_loss = np.array(loss_pos_pred).mean()\n",
    "    total_pred_cd  = np.array(pred_cd).mean()\n",
    "    \n",
    "    return total_emb_loss, total_pos_loss, total_pred_cd, reconstructed_diagrams_strokes, reconstructed_diagrams_start_pos"
   ]
  },
  {
   "cell_type": "code",
   "execution_count": 86,
   "metadata": {},
   "outputs": [
    {
     "ename": "RuntimeError",
     "evalue": "Expected all tensors to be on the same device, but found at least two devices, cuda:0 and cpu!",
     "output_type": "error",
     "traceback": [
      "\u001b[0;31m---------------------------------------------------------------------------\u001b[0m",
      "\u001b[0;31mRuntimeError\u001b[0m                              Traceback (most recent call last)",
      "\u001b[0;32m<ipython-input-86-7e61c4f8fe47>\u001b[0m in \u001b[0;36m<module>\u001b[0;34m\u001b[0m\n\u001b[1;32m      8\u001b[0m                                                                                        \u001b[0mmean_channel\u001b[0m \u001b[0;34m=\u001b[0m \u001b[0mmean_channel\u001b[0m\u001b[0;34m,\u001b[0m\u001b[0;34m\u001b[0m\u001b[0;34m\u001b[0m\u001b[0m\n\u001b[1;32m      9\u001b[0m                                                                                        \u001b[0mstd_channel\u001b[0m \u001b[0;34m=\u001b[0m \u001b[0mstd_channel\u001b[0m\u001b[0;34m,\u001b[0m\u001b[0;34m\u001b[0m\u001b[0;34m\u001b[0m\u001b[0m\n\u001b[0;32m---> 10\u001b[0;31m                                                                                        use_autoregressive = False)\n\u001b[0m",
      "\u001b[0;32m<ipython-input-48-8c6b766faf1f>\u001b[0m in \u001b[0;36mget_prediction_metrics\u001b[0;34m(encoder_inputs, strok_len_inputs, diagram_embedding, start_pos_base, num_strokes, models, device, mean_channel, std_channel, use_autoregressive)\u001b[0m\n\u001b[1;32m     66\u001b[0m                                                                   \u001b[0mstd_channel\u001b[0m \u001b[0;34m=\u001b[0m \u001b[0mstd_channel\u001b[0m\u001b[0;34m,\u001b[0m\u001b[0;34m\u001b[0m\u001b[0;34m\u001b[0m\u001b[0m\n\u001b[1;32m     67\u001b[0m                                                                   \u001b[0mdevice\u001b[0m \u001b[0;34m=\u001b[0m \u001b[0mdevice\u001b[0m\u001b[0;34m,\u001b[0m\u001b[0;34m\u001b[0m\u001b[0;34m\u001b[0m\u001b[0m\n\u001b[0;32m---> 68\u001b[0;31m                                                                   skip_rows = n_strokes_init)\n\u001b[0m\u001b[1;32m     69\u001b[0m         \u001b[0;31m#print(expected_output_one[0][:5,:])\u001b[0m\u001b[0;34m\u001b[0m\u001b[0;34m\u001b[0m\u001b[0;34m\u001b[0m\u001b[0m\n\u001b[1;32m     70\u001b[0m         \u001b[0;31m#print(recon_strokes[0][:5,:])\u001b[0m\u001b[0;34m\u001b[0m\u001b[0;34m\u001b[0m\u001b[0;34m\u001b[0m\u001b[0m\n",
      "\u001b[0;32m<ipython-input-40-275fdc941c03>\u001b[0m in \u001b[0;36mget_reconstruction_metrics\u001b[0;34m(expected_strokes, expected_start_coord, pred_embedding, recon_start_coord, strok_len_inputs, decoder, mean_channel, std_channel, device, skip_rows)\u001b[0m\n\u001b[1;32m     21\u001b[0m             \u001b[0;32mif\u001b[0m \u001b[0mi\u001b[0m \u001b[0;34m>=\u001b[0m \u001b[0mskip_rows\u001b[0m\u001b[0;34m:\u001b[0m\u001b[0;34m\u001b[0m\u001b[0;34m\u001b[0m\u001b[0m\n\u001b[1;32m     22\u001b[0m                 \u001b[0mrecons_strokes\u001b[0m\u001b[0;34m.\u001b[0m\u001b[0mappend\u001b[0m\u001b[0;34m(\u001b[0m\u001b[0mrecon_stroke_\u001b[0m\u001b[0;34m.\u001b[0m\u001b[0msqueeze\u001b[0m\u001b[0;34m(\u001b[0m\u001b[0mdim\u001b[0m \u001b[0;34m=\u001b[0m \u001b[0;36m0\u001b[0m\u001b[0;34m)\u001b[0m\u001b[0;34m)\u001b[0m\u001b[0;34m\u001b[0m\u001b[0;34m\u001b[0m\u001b[0m\n\u001b[0;32m---> 23\u001b[0;31m                 \u001b[0mloss_ae\u001b[0m \u001b[0;34m+=\u001b[0m \u001b[0;34m-\u001b[0m\u001b[0;36m1\u001b[0m\u001b[0;34m*\u001b[0m\u001b[0;34m(\u001b[0m\u001b[0mlogli_gmm_logsumexp\u001b[0m\u001b[0;34m(\u001b[0m\u001b[0morig_stroke_\u001b[0m\u001b[0;34m,\u001b[0m \u001b[0mae_mu\u001b[0m\u001b[0;34m,\u001b[0m \u001b[0mae_sigma\u001b[0m\u001b[0;34m,\u001b[0m \u001b[0mae_pi\u001b[0m\u001b[0;34m)\u001b[0m\u001b[0;34m.\u001b[0m\u001b[0mmean\u001b[0m\u001b[0;34m(\u001b[0m\u001b[0;34m)\u001b[0m\u001b[0;34m)\u001b[0m\u001b[0;34m\u001b[0m\u001b[0;34m\u001b[0m\u001b[0m\n\u001b[0m\u001b[1;32m     24\u001b[0m                 \u001b[0morig_stroke_\u001b[0m \u001b[0;34m=\u001b[0m \u001b[0mtorch\u001b[0m\u001b[0;34m.\u001b[0m\u001b[0mfrom_numpy\u001b[0m\u001b[0;34m(\u001b[0m\u001b[0morig_stroke_\u001b[0m\u001b[0;34m.\u001b[0m\u001b[0mcpu\u001b[0m\u001b[0;34m(\u001b[0m\u001b[0;34m)\u001b[0m\u001b[0;34m.\u001b[0m\u001b[0mdetach\u001b[0m\u001b[0;34m(\u001b[0m\u001b[0;34m)\u001b[0m\u001b[0;34m.\u001b[0m\u001b[0mnumpy\u001b[0m\u001b[0;34m(\u001b[0m\u001b[0;34m)\u001b[0m\u001b[0;34m*\u001b[0m\u001b[0mstd_channel\u001b[0m \u001b[0;34m+\u001b[0m \u001b[0mmean_channel\u001b[0m\u001b[0;34m)\u001b[0m\u001b[0;34m.\u001b[0m\u001b[0mto\u001b[0m\u001b[0;34m(\u001b[0m\u001b[0mdevice\u001b[0m\u001b[0;34m)\u001b[0m \u001b[0;34m+\u001b[0m \u001b[0morig_pos\u001b[0m\u001b[0;34m\u001b[0m\u001b[0;34m\u001b[0m\u001b[0m\n\u001b[1;32m     25\u001b[0m                 \u001b[0mrecon_stroke_\u001b[0m \u001b[0;34m=\u001b[0m \u001b[0mtorch\u001b[0m\u001b[0;34m.\u001b[0m\u001b[0mfrom_numpy\u001b[0m\u001b[0;34m(\u001b[0m\u001b[0mrecon_stroke_\u001b[0m\u001b[0;34m.\u001b[0m\u001b[0mcpu\u001b[0m\u001b[0;34m(\u001b[0m\u001b[0;34m)\u001b[0m\u001b[0;34m.\u001b[0m\u001b[0mdetach\u001b[0m\u001b[0;34m(\u001b[0m\u001b[0;34m)\u001b[0m\u001b[0;34m.\u001b[0m\u001b[0mnumpy\u001b[0m\u001b[0;34m(\u001b[0m\u001b[0;34m)\u001b[0m\u001b[0;34m*\u001b[0m\u001b[0mstd_channel\u001b[0m \u001b[0;34m+\u001b[0m \u001b[0mmean_channel\u001b[0m\u001b[0;34m)\u001b[0m\u001b[0;34m.\u001b[0m\u001b[0mto\u001b[0m\u001b[0;34m(\u001b[0m\u001b[0mdevice\u001b[0m\u001b[0;34m)\u001b[0m \u001b[0;34m+\u001b[0m \u001b[0mrecon_pos\u001b[0m\u001b[0;34m\u001b[0m\u001b[0;34m\u001b[0m\u001b[0m\n",
      "\u001b[0;32m~/CoSE-pytorch/models/gmm.py\u001b[0m in \u001b[0;36mlogli_gmm_logsumexp\u001b[0;34m(x, mu, sigma, coefficient)\u001b[0m\n\u001b[1;32m    191\u001b[0m     \u001b[0mvar\u001b[0m \u001b[0;34m=\u001b[0m \u001b[0mtorch\u001b[0m\u001b[0;34m.\u001b[0m\u001b[0mmaximum\u001b[0m\u001b[0;34m(\u001b[0m\u001b[0;36m1e-6\u001b[0m \u001b[0;34m*\u001b[0m \u001b[0mtorch\u001b[0m\u001b[0;34m.\u001b[0m\u001b[0mones_like\u001b[0m\u001b[0;34m(\u001b[0m\u001b[0msigma_\u001b[0m\u001b[0;34m)\u001b[0m\u001b[0;34m,\u001b[0m \u001b[0mtorch\u001b[0m\u001b[0;34m.\u001b[0m\u001b[0msquare\u001b[0m\u001b[0;34m(\u001b[0m\u001b[0msigma_\u001b[0m\u001b[0;34m)\u001b[0m\u001b[0;34m)\u001b[0m\u001b[0;34m\u001b[0m\u001b[0;34m\u001b[0m\u001b[0m\n\u001b[1;32m    192\u001b[0m \u001b[0;34m\u001b[0m\u001b[0m\n\u001b[0;32m--> 193\u001b[0;31m     \u001b[0mlog_normal\u001b[0m \u001b[0;34m=\u001b[0m \u001b[0;34m-\u001b[0m\u001b[0;36m0.5\u001b[0m \u001b[0;34m*\u001b[0m \u001b[0mtorch\u001b[0m\u001b[0;34m.\u001b[0m\u001b[0msum\u001b[0m\u001b[0;34m(\u001b[0m\u001b[0mtorch\u001b[0m\u001b[0;34m.\u001b[0m\u001b[0mlog\u001b[0m\u001b[0;34m(\u001b[0m\u001b[0;36m2\u001b[0m \u001b[0;34m*\u001b[0m \u001b[0mnp\u001b[0m\u001b[0;34m.\u001b[0m\u001b[0mpi\u001b[0m \u001b[0;34m*\u001b[0m \u001b[0mvar\u001b[0m\u001b[0;34m)\u001b[0m \u001b[0;34m+\u001b[0m \u001b[0mtorch\u001b[0m\u001b[0;34m.\u001b[0m\u001b[0msquare\u001b[0m\u001b[0;34m(\u001b[0m\u001b[0mx_\u001b[0m \u001b[0;34m-\u001b[0m \u001b[0mmu_\u001b[0m\u001b[0;34m)\u001b[0m\u001b[0;34m/\u001b[0m\u001b[0mvar\u001b[0m\u001b[0;34m,\u001b[0m \u001b[0;36m2\u001b[0m\u001b[0;34m)\u001b[0m\u001b[0;34m\u001b[0m\u001b[0;34m\u001b[0m\u001b[0m\n\u001b[0m\u001b[1;32m    194\u001b[0m \u001b[0;34m\u001b[0m\u001b[0m\n\u001b[1;32m    195\u001b[0m     \u001b[0mnll\u001b[0m \u001b[0;34m=\u001b[0m \u001b[0mtorch\u001b[0m\u001b[0;34m.\u001b[0m\u001b[0mlogsumexp\u001b[0m\u001b[0;34m(\u001b[0m\u001b[0mlog_coeff\u001b[0m \u001b[0;34m+\u001b[0m \u001b[0mlog_normal\u001b[0m\u001b[0;34m,\u001b[0m \u001b[0mdim\u001b[0m\u001b[0;34m=\u001b[0m\u001b[0;34m-\u001b[0m\u001b[0;36m1\u001b[0m\u001b[0;34m,\u001b[0m \u001b[0mkeepdim\u001b[0m\u001b[0;34m=\u001b[0m\u001b[0;32mTrue\u001b[0m\u001b[0;34m)\u001b[0m\u001b[0;34m\u001b[0m\u001b[0;34m\u001b[0m\u001b[0m\n",
      "\u001b[0;31mRuntimeError\u001b[0m: Expected all tensors to be on the same device, but found at least two devices, cuda:0 and cpu!"
     ]
    }
   ],
   "source": [
    "emb_loss, pos_loss, pred_cd, recons_strokes, recons_start_pos = get_prediction_metrics(encoder_inputs =encoder_inputs,\n",
    "                                                                                       strok_len_inputs = strok_len_inputs,\n",
    "                                                                                       diagram_embedding = diagram_embedding,\n",
    "                                                                                       start_pos_base = start_pos_base,\n",
    "                                                                                       num_strokes = num_strokes,\n",
    "                                                                                       models = [cose.decoder, cose.position_predictive_model, cose.embedding_predictive_model],\n",
    "                                                                                       device = device,\n",
    "                                                                                       mean_channel = mean_channel,\n",
    "                                                                                       std_channel = std_channel,\n",
    "                                                                                       use_autoregressive = False)"
   ]
  },
  {
   "cell_type": "code",
   "execution_count": 87,
   "metadata": {},
   "outputs": [
    {
     "data": {
      "text/plain": [
       "(-2.465785728793749, 4.1876105842456015, 27.590794725928074)"
      ]
     },
     "execution_count": 87,
     "metadata": {},
     "output_type": "execute_result"
    }
   ],
   "source": [
    "emb_loss,pos_loss,pred_cd"
   ]
  },
  {
   "cell_type": "code",
   "execution_count": 60,
   "metadata": {},
   "outputs": [
    {
     "data": {
      "text/plain": [
       "(-2.465785728793749, 4.1876105842456015, 27.590794725928074)"
      ]
     },
     "execution_count": 60,
     "metadata": {},
     "output_type": "execute_result"
    }
   ],
   "source": [
    "emb_loss,pos_loss,pred_cd"
   ]
  },
  {
   "cell_type": "code",
   "execution_count": 77,
   "metadata": {},
   "outputs": [],
   "source": [
    "i_diagram = 4"
   ]
  },
  {
   "cell_type": "code",
   "execution_count": 78,
   "metadata": {},
   "outputs": [],
   "source": [
    "recons_strokes_padded_i = torch.nn.utils.rnn.pad_sequence(recons_strokes[i_diagram], batch_first=True, padding_value=0.0).cpu().detach()\n",
    "seq_len_i = torch.tensor([len(i) for i in recons_strokes[i_diagram]]).cpu().detach()\n",
    "recons_start_pos_i = recons_start_pos[i_diagram].squeeze().cpu().detach()\n",
    "num_strokes_i = torch.tensor(len(recons_strokes[i_diagram])).cpu().detach()"
   ]
  },
  {
   "cell_type": "code",
   "execution_count": 79,
   "metadata": {},
   "outputs": [],
   "source": [
    "encoder_inputs = batch_input['encoder_inputs'].squeeze(dim = 0)\n",
    "num_strokes = batch_input['num_strokes'].squeeze(dim = 0)\n",
    "seq_len_drawing = batch_input['seq_len'].squeeze(dim = 0)\n",
    "start_coord = batch_input['start_coord'].squeeze(dim = 0).squeeze()"
   ]
  },
  {
   "cell_type": "code",
   "execution_count": 80,
   "metadata": {},
   "outputs": [],
   "source": [
    "enc_inputs = encoder_inputs.reshape(-1, num_strokes.max(), encoder_inputs.size(1), encoder_inputs.size(2))\n",
    "seq_len = seq_len_drawing.reshape(-1, num_strokes.max())\n",
    "st_coord = start_coord.reshape(-1,num_strokes.max(), start_coord.size(1))"
   ]
  },
  {
   "cell_type": "code",
   "execution_count": 81,
   "metadata": {},
   "outputs": [
    {
     "data": {
      "image/png": "[encoded data removed]",
      "text/plain": [
       "<matplotlib.figure.Figure at 0x7f6b21fabe80>"
      ]
     },
     "metadata": {
      "needs_background": "light"
     },
     "output_type": "display_data"
    }
   ],
   "source": [
    "npfig, fig, _, _ = transform_strokes_to_image(enc_inputs[i_diagram], seq_len[i_diagram], st_coord[i_diagram], mean_channel,\n",
    "                               std_channel, num_strokes=num_strokes[i_diagram], stroke_pred=None, start_coord_pred=None, output_path = log_dir, output_file = 'noutput_pruebas',  save  = True, square_figure=True, alpha=0.5, highlight_start=True)"
   ]
  },
  {
   "cell_type": "code",
   "execution_count": 82,
   "metadata": {},
   "outputs": [
    {
     "data": {
      "text/plain": [
       "(array([[[255, 255, 255,   0],\n",
       "         [255, 255, 255,   0],\n",
       "         [255, 255, 255,   0],\n",
       "         ...,\n",
       "         [255, 255, 255,   0],\n",
       "         [255, 255, 255,   0],\n",
       "         [255, 255, 255,   0]],\n",
       " \n",
       "        [[255, 255, 255,   0],\n",
       "         [255, 255, 255,   0],\n",
       "         [255, 255, 255,   0],\n",
       "         ...,\n",
       "         [255, 255, 255,   0],\n",
       "         [255, 255, 255,   0],\n",
       "         [255, 255, 255,   0]],\n",
       " \n",
       "        [[255, 255, 255,   0],\n",
       "         [255, 255, 255,   0],\n",
       "         [255, 255, 255,   0],\n",
       "         ...,\n",
       "         [255, 255, 255,   0],\n",
       "         [255, 255, 255,   0],\n",
       "         [255, 255, 255,   0]],\n",
       " \n",
       "        ...,\n",
       " \n",
       "        [[255, 255, 255,   0],\n",
       "         [255, 255, 255,   0],\n",
       "         [255, 255, 255,   0],\n",
       "         ...,\n",
       "         [255, 255, 255,   0],\n",
       "         [255, 255, 255,   0],\n",
       "         [255, 255, 255,   0]],\n",
       " \n",
       "        [[255, 255, 255,   0],\n",
       "         [255, 255, 255,   0],\n",
       "         [255, 255, 255,   0],\n",
       "         ...,\n",
       "         [255, 255, 255,   0],\n",
       "         [255, 255, 255,   0],\n",
       "         [255, 255, 255,   0]],\n",
       " \n",
       "        [[255, 255, 255,   0],\n",
       "         [255, 255, 255,   0],\n",
       "         [255, 255, 255,   0],\n",
       "         ...,\n",
       "         [255, 255, 255,   0],\n",
       "         [255, 255, 255,   0],\n",
       "         [255, 255, 255,   0]]], dtype=uint8),\n",
       " <matplotlib.figure.Figure at 0x7f6b20620518>,\n",
       " <matplotlib.axes._subplots.AxesSubplot at 0x7f6b2435e0b8>,\n",
       " './pinha.jpg')"
      ]
     },
     "execution_count": 82,
     "metadata": {},
     "output_type": "execute_result"
    },
    {
     "data": {
      "image/png": "[encoded data removed]",
      "text/plain": [
       "<matplotlib.figure.Figure at 0x7f6b20620518>"
      ]
     },
     "metadata": {
      "needs_background": "light"
     },
     "output_type": "display_data"
    }
   ],
   "source": [
    "transform_strokes_to_image(drawing=recons_strokes_padded_i, seq_len_drawing=seq_len_i, start_coord_drawing=recons_start_pos_i, mean_channel=mean_channel,\n",
    "                                                     std_channel=std_channel, num_strokes=num_strokes_i, output_path=\"./\", output_file=\"pinha\", square_figure=True, save=True, alpha=0.6, highlight_start=True)"
   ]
  },
  {
   "cell_type": "code",
   "execution_count": null,
   "metadata": {},
   "outputs": [],
   "source": []
  },
  {
   "cell_type": "code",
   "execution_count": 83,
   "metadata": {},
   "outputs": [
    {
     "data": {
      "text/plain": [
       "(torch.Size([13, 50, 2]),\n",
       " torch.Size([13]),\n",
       " torch.Size([13, 2]),\n",
       " torch.Size([6]))"
      ]
     },
     "execution_count": 83,
     "metadata": {},
     "output_type": "execute_result"
    }
   ],
   "source": [
    "recons_strokes_padded_i.shape,  seq_len_i.shape, recons_start_pos_i.shape,num_strokes.shape"
   ]
  },
  {
   "cell_type": "code",
   "execution_count": 84,
   "metadata": {},
   "outputs": [
    {
     "data": {
      "text/plain": [
       "(torch.Size([12, 164, 3]),\n",
       " torch.Size([12]),\n",
       " torch.Size([12, 2]),\n",
       " torch.Size([]))"
      ]
     },
     "execution_count": 84,
     "metadata": {},
     "output_type": "execute_result"
    }
   ],
   "source": [
    "torch.randn(8,12,164,3)[0].shape, torch.randn(8,12)[0].shape, torch.randn(8,12,2)[0].shape, torch.randn(8)[0].shape "
   ]
  },
  {
   "cell_type": "code",
   "execution_count": 85,
   "metadata": {},
   "outputs": [
    {
     "data": {
      "text/plain": [
       "torch.Size([13, 2])"
      ]
     },
     "execution_count": 85,
     "metadata": {},
     "output_type": "execute_result"
    }
   ],
   "source": [
    "recons_start_pos[0].squeeze().shape"
   ]
  },
  {
   "cell_type": "code",
   "execution_count": 54,
   "metadata": {},
   "outputs": [],
   "source": [
    "num_strokes = None"
   ]
  },
  {
   "cell_type": "code",
   "execution_count": null,
   "metadata": {},
   "outputs": [],
   "source": [
    "npfig, fig, _, file_save_path = tranform2image(recons_strokes[i_diagram], seq_len[i_diagram], recons_start_pos[i_diagram], mean_channel, std_channel, num_strokes[i_diagram], file_save_name=\"diagrama_n_{}\".format(i_diagram))"
   ]
  },
  {
   "cell_type": "code",
   "execution_count": null,
   "metadata": {},
   "outputs": [],
   "source": []
  },
  {
   "cell_type": "code",
   "execution_count": null,
   "metadata": {},
   "outputs": [],
   "source": []
  },
  {
   "cell_type": "code",
   "execution_count": 48,
   "metadata": {},
   "outputs": [
    {
     "data": {
      "text/plain": [
       "tensor(6)"
      ]
     },
     "execution_count": 48,
     "metadata": {},
     "output_type": "execute_result"
    }
   ],
   "source": [
    "torch.tensor(ls)[0]"
   ]
  },
  {
   "cell_type": "code",
   "execution_count": 33,
   "metadata": {},
   "outputs": [
    {
     "data": {
      "text/plain": [
       "torch.Size([6, 99, 2])"
      ]
     },
     "execution_count": 33,
     "metadata": {},
     "output_type": "execute_result"
    }
   ],
   "source": [
    "recons_strokes_padded.shape"
   ]
  },
  {
   "cell_type": "code",
   "execution_count": 38,
   "metadata": {},
   "outputs": [
    {
     "ename": "AttributeError",
     "evalue": "'list' object has no attribute 'shape'",
     "output_type": "error",
     "traceback": [
      "\u001b[0;31m---------------------------------------------------------------------------\u001b[0m",
      "\u001b[0;31mAttributeError\u001b[0m                            Traceback (most recent call last)",
      "\u001b[0;32m<ipython-input-38-267e4fcc1e9e>\u001b[0m in \u001b[0;36m<module>\u001b[0;34m\u001b[0m\n\u001b[0;32m----> 1\u001b[0;31m \u001b[0mrecons_strokes\u001b[0m\u001b[0;34m[\u001b[0m\u001b[0;36m5\u001b[0m\u001b[0;34m]\u001b[0m\u001b[0;34m.\u001b[0m\u001b[0mshape\u001b[0m\u001b[0;34m\u001b[0m\u001b[0;34m\u001b[0m\u001b[0m\n\u001b[0m",
      "\u001b[0;31mAttributeError\u001b[0m: 'list' object has no attribute 'shape'"
     ]
    }
   ],
   "source": [
    "recons_strokes[5]"
   ]
  },
  {
   "cell_type": "code",
   "execution_count": 33,
   "metadata": {},
   "outputs": [
    {
     "ename": "NameError",
     "evalue": "name 'recons_start_pos' is not defined",
     "output_type": "error",
     "traceback": [
      "\u001b[0;31m---------------------------------------------------------------------------\u001b[0m",
      "\u001b[0;31mNameError\u001b[0m                                 Traceback (most recent call last)",
      "\u001b[0;32m<ipython-input-33-1b95c171641f>\u001b[0m in \u001b[0;36m<module>\u001b[0;34m\u001b[0m\n\u001b[0;32m----> 1\u001b[0;31m \u001b[0mrecons_start_pos\u001b[0m\u001b[0;34m[\u001b[0m\u001b[0;36m1\u001b[0m\u001b[0;34m]\u001b[0m\u001b[0;34m\u001b[0m\u001b[0;34m\u001b[0m\u001b[0m\n\u001b[0m",
      "\u001b[0;31mNameError\u001b[0m: name 'recons_start_pos' is not defined"
     ]
    }
   ],
   "source": [
    "recons_start_pos[1]"
   ]
  },
  {
   "cell_type": "code",
   "execution_count": null,
   "metadata": {},
   "outputs": [],
   "source": []
  },
  {
   "cell_type": "code",
   "execution_count": null,
   "metadata": {},
   "outputs": [],
   "source": []
  },
  {
   "cell_type": "code",
   "execution_count": null,
   "metadata": {},
   "outputs": [],
   "source": []
  },
  {
   "cell_type": "code",
   "execution_count": null,
   "metadata": {},
   "outputs": [],
   "source": []
  },
  {
   "cell_type": "code",
   "execution_count": 44,
   "metadata": {},
   "outputs": [],
   "source": [
    "pos_model_inputs = torch.cat([diagram_embedding, start_pos_base], dim = 2)"
   ]
  },
  {
   "cell_type": "code",
   "execution_count": 45,
   "metadata": {},
   "outputs": [],
   "source": [
    "pos_pred_mu, pos_pred_sigma, pos_pred_pi = cose.position_predictive_model(pos_model_inputs, num_strokes, None)"
   ]
  },
  {
   "cell_type": "code",
   "execution_count": 46,
   "metadata": {},
   "outputs": [],
   "source": [
    "pos_model_output = cose.position_predictive_model.draw_sample(pos_pred_mu, pos_pred_sigma, pos_pred_pi)"
   ]
  },
  {
   "cell_type": "code",
   "execution_count": 47,
   "metadata": {},
   "outputs": [],
   "source": [
    "pred_model_inputs = torch.cat([diagram_embedding, start_pos_base, pos_model_output.unsqueeze(dim = 1).repeat(1, diagram_embedding.size(1), 1)], dim = 2)"
   ]
  },
  {
   "cell_type": "code",
   "execution_count": 48,
   "metadata": {},
   "outputs": [],
   "source": [
    "emb_pred_mu, emb_pred_sigma, emb_pred_pi = cose.embedding_predictive_model(pred_model_inputs, num_strokes, None)"
   ]
  },
  {
   "cell_type": "code",
   "execution_count": 49,
   "metadata": {},
   "outputs": [],
   "source": [
    "strokes_output = cose.embedding_predictive_model.draw_sample(emb_pred_mu, emb_pred_sigma, emb_pred_pi)"
   ]
  },
  {
   "cell_type": "code",
   "execution_count": 50,
   "metadata": {},
   "outputs": [
    {
     "data": {
      "text/plain": [
       "torch.Size([8, 8])"
      ]
     },
     "execution_count": 50,
     "metadata": {},
     "output_type": "execute_result"
    }
   ],
   "source": [
    "strokes_output.shape"
   ]
  },
  {
   "cell_type": "code",
   "execution_count": 59,
   "metadata": {},
   "outputs": [],
   "source": [
    "points_q = 6"
   ]
  },
  {
   "cell_type": "code",
   "execution_count": 60,
   "metadata": {},
   "outputs": [],
   "source": [
    "t_inputs = torch.linspace(0, 1, steps=points_q)\n",
    "t_inputs=t_inputs.unsqueeze(dim=0).repeat(strokes_output.shape[0],1)\n",
    "t_inputs=t_inputs.reshape((-1, 1))\n",
    "strokes_output_r=strokes_output.repeat(points_q,1)\n",
    "strokes_output_r.shape\n",
    "t_inputs= t_inputs.to(device)\n",
    "strokes_out = torch.cat([strokes_output_r, t_inputs], dim=1)\n",
    "\n",
    "\n",
    "#flatten t_inputs (48, 1)\n",
    "#repeat or tile strokes_output (batch_sizexpoints_q, 8) -> (48,8)\n",
    "#concat t_inputs + strokes_output_reshapeo #(batch_sizexpoints_q, 9)\n",
    "# entra al decoder\n",
    "#draw sample del decoder"
   ]
  },
  {
   "cell_type": "code",
   "execution_count": 61,
   "metadata": {},
   "outputs": [],
   "source": [
    "strokes_out, ae_mu, ae_sigma, ae_pi= cose.decoder(strokes_out)"
   ]
  },
  {
   "cell_type": "code",
   "execution_count": 63,
   "metadata": {},
   "outputs": [],
   "source": [
    "drawing_out = strokes_out.reshape(-1,points_q,2)"
   ]
  },
  {
   "cell_type": "code",
   "execution_count": 71,
   "metadata": {},
   "outputs": [
    {
     "data": {
      "text/plain": [
       "torch.Size([1, 6, 2])"
      ]
     },
     "execution_count": 71,
     "metadata": {},
     "output_type": "execute_result"
    }
   ],
   "source": [
    "drawing_out[i_diagram].unsqueeze(dim = 0).shape"
   ]
  },
  {
   "cell_type": "code",
   "execution_count": 34,
   "metadata": {},
   "outputs": [],
   "source": [
    "seq_len_out = (torch.ones((drawing_out.shape[0]))*points_q).int()"
   ]
  },
  {
   "cell_type": "code",
   "execution_count": 75,
   "metadata": {},
   "outputs": [
    {
     "data": {
      "text/plain": [
       "[tensor(6, dtype=torch.int32)]"
      ]
     },
     "execution_count": 75,
     "metadata": {},
     "output_type": "execute_result"
    }
   ],
   "source": [
    "[seq_len_out[i_diagram]]"
   ]
  },
  {
   "cell_type": "code",
   "execution_count": 35,
   "metadata": {},
   "outputs": [],
   "source": [
    "drawing_out_cpu = drawing_out.cpu().detach()#.numpy()\n",
    "pos_model_output_cpu = pos_model_output.cpu().detach()#.numpy()"
   ]
  },
  {
   "cell_type": "code",
   "execution_count": 78,
   "metadata": {},
   "outputs": [],
   "source": [
    "#check_again"
   ]
  },
  {
   "cell_type": "code",
   "execution_count": 101,
   "metadata": {},
   "outputs": [
    {
     "data": {
      "text/plain": [
       "torch.Size([12, 164, 3])"
      ]
     },
     "execution_count": 101,
     "metadata": {},
     "output_type": "execute_result"
    }
   ],
   "source": [
    "encoder_inputs.reshape(-1, padded_max_num_strokes, encoder_inputs.size(1), encoder_inputs.size(2))[i_diagram].shape"
   ]
  },
  {
   "cell_type": "code",
   "execution_count": 102,
   "metadata": {},
   "outputs": [
    {
     "data": {
      "text/plain": [
       "torch.Size([1, 6, 2])"
      ]
     },
     "execution_count": 102,
     "metadata": {},
     "output_type": "execute_result"
    }
   ],
   "source": [
    "drawing_i.shape"
   ]
  },
  {
   "cell_type": "code",
   "execution_count": 91,
   "metadata": {},
   "outputs": [],
   "source": [
    "drawing_i = drawing_out_cpu[i_diagram].unsqueeze(dim = 0)\n",
    "start_coor_i = [pos_model_output_cpu[i_diagram]]\n",
    "len_i  = [seq_len_out[i_diagram]]"
   ]
  },
  {
   "cell_type": "code",
   "execution_count": 106,
   "metadata": {},
   "outputs": [
    {
     "data": {
      "text/plain": [
       "tensor([[[-0.2522, -0.2008],\n",
       "         [ 0.1434,  0.1132],\n",
       "         [ 0.2259,  0.3366],\n",
       "         [ 0.3154,  0.6044],\n",
       "         [ 0.1262,  0.2051],\n",
       "         [ 0.2116,  0.8331]]])"
      ]
     },
     "execution_count": 106,
     "metadata": {},
     "output_type": "execute_result"
    }
   ],
   "source": [
    "drawing_i"
   ]
  },
  {
   "cell_type": "code",
   "execution_count": 107,
   "metadata": {},
   "outputs": [
    {
     "data": {
      "text/plain": [
       "[tensor([1.2675, 0.4312])]"
      ]
     },
     "execution_count": 107,
     "metadata": {},
     "output_type": "execute_result"
    }
   ],
   "source": [
    "start_coor_i"
   ]
  },
  {
   "cell_type": "code",
   "execution_count": 108,
   "metadata": {},
   "outputs": [
    {
     "data": {
      "text/plain": [
       "[tensor(6, dtype=torch.int32)]"
      ]
     },
     "execution_count": 108,
     "metadata": {},
     "output_type": "execute_result"
    }
   ],
   "source": [
    "len_i"
   ]
  },
  {
   "cell_type": "code",
   "execution_count": 92,
   "metadata": {},
   "outputs": [],
   "source": [
    "# if drawing_out_cpu.shape[2] == 2:\n",
    "#     drawing_out_cpu = np.concatenate([drawing_out_cpu, torch.zeros(drawing_out_cpu.size(0), drawing_out_cpu.size(1), 1)], axis = -1)\n",
    "# drawing_out_cpu"
   ]
  },
  {
   "cell_type": "code",
   "execution_count": null,
   "metadata": {},
   "outputs": [],
   "source": [
    "#[, asd , ]"
   ]
  },
  {
   "cell_type": "code",
   "execution_count": null,
   "metadata": {},
   "outputs": [],
   "source": []
  },
  {
   "cell_type": "code",
   "execution_count": 96,
   "metadata": {},
   "outputs": [
    {
     "data": {
      "image/png": "[encoded data removed]",
      "text/plain": [
       "<matplotlib.figure.Figure at 0x7fbb98780a58>"
      ]
     },
     "metadata": {
      "needs_background": "light"
     },
     "output_type": "display_data"
    }
   ],
   "source": [
    "np_fig,fig_out, _ = transform_strokes_to_image(drawing_i, len_i, start_coor_i,\n",
    "                                    mean_channel, std_channel, drawing_i.shape[0], log_dir, 'noutput_pruebas', square_figure=True, alpha=0.5, highlight_start=True)"
   ]
  },
  {
   "cell_type": "code",
   "execution_count": 38,
   "metadata": {},
   "outputs": [
    {
     "data": {
      "text/plain": [
       "(1100, 1100, 4)"
      ]
     },
     "execution_count": 38,
     "metadata": {},
     "output_type": "execute_result"
    }
   ],
   "source": [
    "np_fig.shape"
   ]
  },
  {
   "cell_type": "code",
   "execution_count": 39,
   "metadata": {},
   "outputs": [],
   "source": [
    "%matplotlib inline"
   ]
  },
  {
   "cell_type": "code",
   "execution_count": 43,
   "metadata": {},
   "outputs": [
    {
     "data": {
      "text/plain": [
       "<matplotlib.image.AxesImage at 0x7fbbc00770f0>"
      ]
     },
     "execution_count": 43,
     "metadata": {},
     "output_type": "execute_result"
    },
    {
     "data": {
      "image/png": "[encoded data removed]",
      "text/plain": [
       "<matplotlib.figure.Figure at 0x7fbbc01662b0>"
      ]
     },
     "metadata": {
      "needs_background": "light"
     },
     "output_type": "display_data"
    }
   ],
   "source": [
    "plt.figure(figsize = (20,20))\n",
    "plt.imshow(np_fig,)"
   ]
  },
  {
   "cell_type": "code",
   "execution_count": null,
   "metadata": {},
   "outputs": [],
   "source": []
  },
  {
   "cell_type": "code",
   "execution_count": null,
   "metadata": {},
   "outputs": [],
   "source": []
  },
  {
   "cell_type": "code",
   "execution_count": null,
   "metadata": {},
   "outputs": [],
   "source": []
  },
  {
   "cell_type": "code",
   "execution_count": null,
   "metadata": {},
   "outputs": [],
   "source": []
  },
  {
   "cell_type": "code",
   "execution_count": null,
   "metadata": {},
   "outputs": [],
   "source": []
  },
  {
   "cell_type": "code",
   "execution_count": null,
   "metadata": {},
   "outputs": [],
   "source": []
  },
  {
   "cell_type": "code",
   "execution_count": null,
   "metadata": {},
   "outputs": [],
   "source": []
  },
  {
   "cell_type": "code",
   "execution_count": null,
   "metadata": {},
   "outputs": [],
   "source": []
  },
  {
   "cell_type": "code",
   "execution_count": 1,
   "metadata": {},
   "outputs": [],
   "source": [
    "from data.loaders import *"
   ]
  },
  {
   "cell_type": "code",
   "execution_count": 2,
   "metadata": {},
   "outputs": [],
   "source": [
    "from utils import * "
   ]
  },
  {
   "cell_type": "code",
   "execution_count": 4,
   "metadata": {},
   "outputs": [],
   "source": [
    "data_loader = get_batch_iterator(\"/data/ajimenez/cose/train\")"
   ]
  },
  {
   "cell_type": "code",
   "execution_count": 5,
   "metadata": {},
   "outputs": [
    {
     "name": "stdout",
     "output_type": "stream",
     "text": [
      "torch.Size([1, 96])\n"
     ]
    },
    {
     "ename": "NameError",
     "evalue": "name 'sys' is not defined",
     "output_type": "error",
     "traceback": [
      "\u001b[0;31m---------------------------------------------------------------------------\u001b[0m",
      "\u001b[0;31mNameError\u001b[0m                                 Traceback (most recent call last)",
      "\u001b[0;32m<ipython-input-5-3bdb05af35b1>\u001b[0m in \u001b[0;36m<module>\u001b[0;34m\u001b[0m\n\u001b[1;32m      1\u001b[0m \u001b[0;32mfor\u001b[0m \u001b[0mbatch_input\u001b[0m\u001b[0;34m,\u001b[0m \u001b[0mbatch_target\u001b[0m \u001b[0;32min\u001b[0m \u001b[0miter\u001b[0m\u001b[0;34m(\u001b[0m\u001b[0mdata_loader\u001b[0m\u001b[0;34m)\u001b[0m\u001b[0;34m:\u001b[0m\u001b[0;34m\u001b[0m\u001b[0;34m\u001b[0m\u001b[0m\n\u001b[1;32m      2\u001b[0m     \u001b[0mprint\u001b[0m\u001b[0;34m(\u001b[0m\u001b[0mbatch_input\u001b[0m\u001b[0;34m[\u001b[0m\u001b[0;34m'seq_len'\u001b[0m\u001b[0;34m]\u001b[0m\u001b[0;34m.\u001b[0m\u001b[0mshape\u001b[0m\u001b[0;34m)\u001b[0m\u001b[0;34m\u001b[0m\u001b[0;34m\u001b[0m\u001b[0m\n\u001b[0;32m----> 3\u001b[0;31m     \u001b[0msys\u001b[0m\u001b[0;34m.\u001b[0m\u001b[0mexit\u001b[0m\u001b[0;34m(\u001b[0m\u001b[0;36m0\u001b[0m\u001b[0;34m)\u001b[0m\u001b[0;34m\u001b[0m\u001b[0;34m\u001b[0m\u001b[0m\n\u001b[0m",
      "\u001b[0;31mNameError\u001b[0m: name 'sys' is not defined"
     ]
    }
   ],
   "source": [
    "for batch_input, batch_target in iter(data_loader):\n",
    "    print(batch_input['seq_len'].shape)\n",
    "    sys.exit(0)"
   ]
  },
  {
   "cell_type": "code",
   "execution_count": 12,
   "metadata": {},
   "outputs": [
    {
     "data": {
      "text/plain": [
       "tensor([[-0.3041, -0.2503,  0.0000],\n",
       "        [-0.4012, -0.4150,  0.0000],\n",
       "        [-0.4784, -0.5985,  0.0000],\n",
       "        [-0.5537, -0.7905,  0.0000],\n",
       "        [-0.6289, -0.9824,  0.0000],\n",
       "        [-0.6912, -1.1436,  0.0000],\n",
       "        [-0.7417, -1.2636,  0.0000],\n",
       "        [-0.7781, -1.3270,  0.0000],\n",
       "        [-0.8084, -1.3429,  0.0000],\n",
       "        [-0.8336, -1.3170,  0.0000],\n",
       "        [-0.8636, -1.2630,  0.0000],\n",
       "        [-0.9032, -1.1738,  0.0000],\n",
       "        [-0.9560, -1.0703,  0.0000],\n",
       "        [-1.0152, -0.9718,  0.0000],\n",
       "        [-1.0801, -0.8670,  0.0000],\n",
       "        [-1.1302, -0.7882,  0.0000],\n",
       "        [-1.1652, -0.7264,  0.0000],\n",
       "        [-1.1786, -0.6887,  0.0000],\n",
       "        [-1.1768, -0.6673,  0.0000],\n",
       "        [-1.1597, -0.6535,  0.0000],\n",
       "        [-1.1239, -0.6323,  0.0000],\n",
       "        [-1.0716, -0.5946,  0.0000],\n",
       "        [-1.0104, -0.5299,  0.0000],\n",
       "        [-0.9465, -0.4376,  0.0000],\n",
       "        [-0.8798, -0.3120,  0.0000],\n",
       "        [-0.8301, -0.1725,  0.0000],\n",
       "        [-0.7940, -0.0368,  0.0000],\n",
       "        [-0.7755,  0.0496,  0.0000],\n",
       "        [-0.7681,  0.0787,  0.0000],\n",
       "        [-0.7638,  0.0739,  0.0000],\n",
       "        [-0.7596,  0.0692,  0.0000],\n",
       "        [-0.7553,  0.0644,  0.0000],\n",
       "        [-0.6991, -0.0574,  0.0000],\n",
       "        [-0.5646, -0.2327,  0.0000],\n",
       "        [-0.4160, -0.3830,  0.0000],\n",
       "        [-0.2707, -0.5011,  0.0000],\n",
       "        [-0.0000, -0.0000,  0.0000],\n",
       "        [ 0.0000, -0.0000,  0.0000],\n",
       "        [ 0.0000, -0.0000,  0.0000],\n",
       "        [ 0.0000, -0.0000,  0.0000],\n",
       "        [ 0.0000, -0.0000,  0.0000],\n",
       "        [ 0.0000, -0.0000,  0.0000],\n",
       "        [ 0.0000, -0.0000,  0.0000],\n",
       "        [ 0.0000, -0.0000,  0.0000],\n",
       "        [ 0.0000, -0.0000,  0.0000],\n",
       "        [ 0.0000, -0.0000,  0.0000],\n",
       "        [ 0.0000, -0.0000,  0.0000],\n",
       "        [ 0.0000, -0.0000,  0.0000],\n",
       "        [ 0.0000, -0.0000,  0.0000],\n",
       "        [ 0.0000,  0.0000,  0.0000],\n",
       "        [ 0.0000,  0.0000,  0.0000],\n",
       "        [ 0.0000,  0.0000,  0.0000],\n",
       "        [ 0.0000,  0.0000,  0.0000],\n",
       "        [ 0.0000,  0.0000,  0.0000],\n",
       "        [ 0.0000,  0.0000,  0.0000],\n",
       "        [ 0.0000,  0.0000,  0.0000],\n",
       "        [ 0.0000,  0.0000,  0.0000],\n",
       "        [ 0.0000,  0.0000,  0.0000],\n",
       "        [ 0.0000,  0.0000,  0.0000],\n",
       "        [ 0.0000,  0.0000,  0.0000],\n",
       "        [ 0.0000,  0.0000,  0.0000],\n",
       "        [ 0.0000,  0.0000,  0.0000],\n",
       "        [ 0.0000,  0.0000,  0.0000],\n",
       "        [ 0.0000,  0.0000,  0.0000],\n",
       "        [ 0.0000,  0.0000,  0.0000],\n",
       "        [ 0.0000,  0.0000,  0.0000],\n",
       "        [ 0.0000,  0.0000,  0.0000],\n",
       "        [ 0.0000,  0.0000,  0.0000],\n",
       "        [ 0.0000,  0.0000,  0.0000],\n",
       "        [ 0.0000,  0.0000,  0.0000],\n",
       "        [ 0.0000,  0.0000,  0.0000],\n",
       "        [ 0.0000,  0.0000,  0.0000],\n",
       "        [ 0.0000,  0.0000,  0.0000],\n",
       "        [ 0.0000,  0.0000,  0.0000],\n",
       "        [ 0.0000,  0.0000,  0.0000],\n",
       "        [ 0.0000,  0.0000,  0.0000],\n",
       "        [ 0.0000,  0.0000,  0.0000],\n",
       "        [ 0.0000,  0.0000,  0.0000],\n",
       "        [ 0.0000,  0.0000,  0.0000],\n",
       "        [ 0.0000,  0.0000,  0.0000],\n",
       "        [ 0.0000,  0.0000,  0.0000],\n",
       "        [ 0.0000,  0.0000,  0.0000],\n",
       "        [ 0.0000,  0.0000,  0.0000],\n",
       "        [ 0.0000,  0.0000,  0.0000],\n",
       "        [ 0.0000,  0.0000,  0.0000],\n",
       "        [ 0.0000,  0.0000,  0.0000],\n",
       "        [ 0.0000,  0.0000,  0.0000],\n",
       "        [ 0.0000,  0.0000,  0.0000],\n",
       "        [ 0.0000,  0.0000,  0.0000],\n",
       "        [ 0.0000,  0.0000,  0.0000],\n",
       "        [ 0.0000,  0.0000,  0.0000]])"
      ]
     },
     "execution_count": 12,
     "metadata": {},
     "output_type": "execute_result"
    }
   ],
   "source": [
    "batch_input['encoder_inputs'][0][3]"
   ]
  }
 ],
 "metadata": {
  "kernelspec": {
   "display_name": "Python 3",
   "language": "python",
   "name": "python3"
  },
  "language_info": {
   "codemirror_mode": {
    "name": "ipython",
    "version": 3
   },
   "file_extension": ".py",
   "mimetype": "text/x-python",
   "name": "python",
   "nbconvert_exporter": "python",
   "pygments_lexer": "ipython3",
   "version": "3.6.9"
  }
 },
 "nbformat": 4,
 "nbformat_minor": 4
}
